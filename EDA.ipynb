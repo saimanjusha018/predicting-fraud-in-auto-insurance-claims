{
  "nbformat": 4,
  "nbformat_minor": 0,
  "metadata": {
    "colab": {
      "provenance": [],
      "collapsed_sections": []
    },
    "kernelspec": {
      "name": "python3",
      "display_name": "Python 3"
    },
    "language_info": {
      "name": "python"
    }
  },
  "cells": [
    {
      "cell_type": "code",
      "metadata": {
        "id": "P5ShUSVYaTx1"
      },
      "source": [
        "# Importing modules and Libraries\n",
        "\n",
        "import pandas as pd\n",
        "import numpy as np\n",
        "import seaborn as sns\n",
        "import matplotlib.pyplot as plt\n",
        "%matplotlib inline\n",
        "\n",
        "import warnings\n",
        "warnings.filterwarnings(\"ignore\")"
      ],
      "execution_count": null,
      "outputs": []
    },
    {
      "cell_type": "code",
      "metadata": {
        "colab": {
          "base_uri": "https://localhost:8080/"
        },
        "id": "rOXTjKJjaw-V",
        "outputId": "b3afd645-489f-4ea9-bb91-95a1ada387e9"
      },
      "source": [
        "from google.colab import drive\n",
        "drive.mount('/content/gdrive')"
      ],
      "execution_count": null,
      "outputs": [
        {
          "output_type": "stream",
          "text": [
            "Drive already mounted at /content/gdrive; to attempt to forcibly remount, call drive.mount(\"/content/gdrive\", force_remount=True).\n"
          ],
          "name": "stdout"
        }
      ]
    },
    {
      "cell_type": "code",
      "metadata": {
        "id": "Vb-X2zvibpAI"
      },
      "source": [
        "# Read the files\n",
        "Train_Claim = pd.read_csv(\"/content/gdrive/MyDrive/TrainData_withoutTarget/Train_Claim.csv\",na_values =[\"MISSINGVALUE\",\"MISSEDDATA\"])\n",
        "Train_Demo = pd.read_csv(\"/content/gdrive/MyDrive/TrainData_withoutTarget/Train_Demographics.csv\")\n",
        "Train_Policy = pd.read_csv(\"/content/gdrive/MyDrive/TrainData_withoutTarget/Train_Policy.csv\", na_values=[\"-1\", \"MISSINGVAL\"])\n",
        "Train_Vehicle = pd.read_csv(\"/content/gdrive/MyDrive/TrainData_withoutTarget/Train_Vehicle.csv\", na_values=\"???\")\n",
        "Train_no_target= pd.read_excel(\"/content/gdrive/MyDrive/TrainData_withoutTarget/Traindata_withoutTarget.xlsx\")"
      ],
      "execution_count": null,
      "outputs": []
    },
    {
      "cell_type": "markdown",
      "metadata": {
        "id": "c0g1a3z9jC2L"
      },
      "source": [
        "# **Understanding the data in each file**"
      ]
    },
    {
      "cell_type": "code",
      "metadata": {
        "colab": {
          "base_uri": "https://localhost:8080/"
        },
        "id": "eFPT06YXsrs4",
        "outputId": "303a5d85-5020-4213-cfec-2b6bafbddcd6"
      },
      "source": [
        "# Checking number of Records and Attributes for each file\n",
        "print(Train_Claim.shape)\n",
        "print(Train_Demo.shape)\n",
        "print(Train_Policy.shape)\n",
        "print(Train_Vehicle.shape)\n",
        "print(Train_no_target.shape)"
      ],
      "execution_count": null,
      "outputs": [
        {
          "output_type": "stream",
          "text": [
            "(28836, 19)\n",
            "(28836, 10)\n",
            "(28836, 10)\n",
            "(115344, 3)\n",
            "(28836, 2)\n"
          ],
          "name": "stdout"
        }
      ]
    },
    {
      "cell_type": "code",
      "metadata": {
        "colab": {
          "base_uri": "https://localhost:8080/"
        },
        "id": "Nfpd9fJ6WpbE",
        "outputId": "1d573aa1-9c64-42a9-b42b-2044a03e73f8"
      },
      "source": [
        "# Printing columns names in each file\n",
        "print(Train_Claim.columns)\n",
        "print(\"-----------------------------------------------------------------------------------\")\n",
        "print(Train_Demo.columns)\n",
        "print(\"-----------------------------------------------------------------------------------\")\n",
        "print(Train_Policy.columns)\n",
        "print(\"-----------------------------------------------------------------------------------\")\n",
        "print(Train_Vehicle.columns)\n",
        "print(\"-----------------------------------------------------------------------------------\")\n",
        "print(Train_no_target.columns)"
      ],
      "execution_count": null,
      "outputs": [
        {
          "output_type": "stream",
          "text": [
            "Index(['CustomerID', 'DateOfIncident', 'TypeOfIncident', 'TypeOfCollission',\n",
            "       'SeverityOfIncident', 'AuthoritiesContacted', 'IncidentState',\n",
            "       'IncidentCity', 'IncidentAddress', 'IncidentTime', 'NumberOfVehicles',\n",
            "       'PropertyDamage', 'BodilyInjuries', 'Witnesses', 'PoliceReport',\n",
            "       'AmountOfTotalClaim', 'AmountOfInjuryClaim', 'AmountOfPropertyClaim',\n",
            "       'AmountOfVehicleDamage'],\n",
            "      dtype='object')\n",
            "-----------------------------------------------------------------------------------\n",
            "Index(['CustomerID', 'InsuredAge', 'InsuredZipCode', 'InsuredGender',\n",
            "       'InsuredEducationLevel', 'InsuredOccupation', 'InsuredHobbies',\n",
            "       'CapitalGains', 'CapitalLoss', 'Country'],\n",
            "      dtype='object')\n",
            "-----------------------------------------------------------------------------------\n",
            "Index(['InsurancePolicyNumber', 'CustomerLoyaltyPeriod',\n",
            "       'DateOfPolicyCoverage', 'InsurancePolicyState',\n",
            "       'Policy_CombinedSingleLimit', 'Policy_Deductible',\n",
            "       'PolicyAnnualPremium', 'UmbrellaLimit', 'InsuredRelationship',\n",
            "       'CustomerID'],\n",
            "      dtype='object')\n",
            "-----------------------------------------------------------------------------------\n",
            "Index(['CustomerID', 'VehicleAttribute', 'VehicleAttributeDetails'], dtype='object')\n",
            "-----------------------------------------------------------------------------------\n",
            "Index(['CustomerID', 'ReportedFraud'], dtype='object')\n"
          ],
          "name": "stdout"
        }
      ]
    },
    {
      "cell_type": "code",
      "metadata": {
        "colab": {
          "base_uri": "https://localhost:8080/"
        },
        "id": "ygmuNZIQX0Yh",
        "outputId": "b72630b5-5de5-4340-a3c1-d3c623d6166d"
      },
      "source": [
        "# Checking unique ID's in each file\n",
        "print(Train_Claim.CustomerID.nunique())\n",
        "print(Train_Demo.CustomerID.nunique())\n",
        "print(Train_Policy.CustomerID.nunique())\n",
        "print(Train_Vehicle.CustomerID.nunique())\n",
        "print(Train_no_target.CustomerID.nunique())"
      ],
      "execution_count": null,
      "outputs": [
        {
          "output_type": "stream",
          "text": [
            "28836\n",
            "28836\n",
            "28836\n",
            "28836\n",
            "28836\n"
          ],
          "name": "stdout"
        }
      ]
    },
    {
      "cell_type": "code",
      "metadata": {
        "colab": {
          "base_uri": "https://localhost:8080/"
        },
        "id": "vr4LCgl8-Phx",
        "outputId": "57764ae0-8e15-4fc0-8bce-3a05c99b8d4a"
      },
      "source": [
        "i1=list(set(Train_no_target.CustomerID)-set(Train_Claim.CustomerID))\n",
        "print(len(i1))\n",
        "i2=list(set(Train_Claim.CustomerID)-set(Train_no_target.CustomerID))\n",
        "print(len(i2))\n",
        "i3 = list(set(Train_no_target.CustomerID)-set(Train_Policy.CustomerID))\n",
        "print(len(i3))\n",
        "i4 = list(set(Train_no_target.CustomerID)-set(Train_Demo.CustomerID))\n",
        "print(len(i4))\n",
        "i5= list(set(Train_no_target.CustomerID)-set(Train_Vehicle.CustomerID))\n",
        "print(len(i5))"
      ],
      "execution_count": null,
      "outputs": [
        {
          "output_type": "stream",
          "text": [
            "0\n",
            "0\n",
            "0\n",
            "0\n",
            "0\n"
          ],
          "name": "stdout"
        }
      ]
    },
    {
      "cell_type": "markdown",
      "metadata": {
        "id": "5ux-Lquqic4Y"
      },
      "source": [
        "**Observation**:\n",
        "  Same CustomerID's in all the files"
      ]
    },
    {
      "cell_type": "code",
      "metadata": {
        "id": "8IJP54554akR"
      },
      "source": [
        "Train_no_target.drop('ReportedFraud', axis=1, inplace=True)"
      ],
      "execution_count": null,
      "outputs": []
    },
    {
      "cell_type": "code",
      "metadata": {
        "id": "BS2G2Du6HYGn"
      },
      "source": [
        "df= pd.crosstab(Train_Vehicle['CustomerID'], Train_Vehicle['VehicleAttribute'],Train_Vehicle['VehicleAttributeDetails'],aggfunc='first',rownames=['CustomerID'],colnames=['VehicleAttribute'])\n"
      ],
      "execution_count": null,
      "outputs": []
    },
    {
      "cell_type": "code",
      "metadata": {
        "colab": {
          "base_uri": "https://localhost:8080/",
          "height": 235
        },
        "id": "3-akm_PWIe5f",
        "outputId": "d36b7cf7-f791-4480-b000-c1250a5d8d14"
      },
      "source": [
        "df.head()"
      ],
      "execution_count": null,
      "outputs": [
        {
          "output_type": "execute_result",
          "data": {
            "text/html": [
              "<div>\n",
              "<style scoped>\n",
              "    .dataframe tbody tr th:only-of-type {\n",
              "        vertical-align: middle;\n",
              "    }\n",
              "\n",
              "    .dataframe tbody tr th {\n",
              "        vertical-align: top;\n",
              "    }\n",
              "\n",
              "    .dataframe thead th {\n",
              "        text-align: right;\n",
              "    }\n",
              "</style>\n",
              "<table border=\"1\" class=\"dataframe\">\n",
              "  <thead>\n",
              "    <tr style=\"text-align: right;\">\n",
              "      <th>VehicleAttribute</th>\n",
              "      <th>VehicleID</th>\n",
              "      <th>VehicleMake</th>\n",
              "      <th>VehicleModel</th>\n",
              "      <th>VehicleYOM</th>\n",
              "    </tr>\n",
              "    <tr>\n",
              "      <th>CustomerID</th>\n",
              "      <th></th>\n",
              "      <th></th>\n",
              "      <th></th>\n",
              "      <th></th>\n",
              "    </tr>\n",
              "  </thead>\n",
              "  <tbody>\n",
              "    <tr>\n",
              "      <th>Cust10000</th>\n",
              "      <td>Vehicle26917</td>\n",
              "      <td>Audi</td>\n",
              "      <td>A5</td>\n",
              "      <td>2008</td>\n",
              "    </tr>\n",
              "    <tr>\n",
              "      <th>Cust10001</th>\n",
              "      <td>Vehicle15893</td>\n",
              "      <td>Audi</td>\n",
              "      <td>A5</td>\n",
              "      <td>2006</td>\n",
              "    </tr>\n",
              "    <tr>\n",
              "      <th>Cust10002</th>\n",
              "      <td>Vehicle5152</td>\n",
              "      <td>Volkswagen</td>\n",
              "      <td>Jetta</td>\n",
              "      <td>1999</td>\n",
              "    </tr>\n",
              "    <tr>\n",
              "      <th>Cust10003</th>\n",
              "      <td>Vehicle37363</td>\n",
              "      <td>Volkswagen</td>\n",
              "      <td>Jetta</td>\n",
              "      <td>2003</td>\n",
              "    </tr>\n",
              "    <tr>\n",
              "      <th>Cust10004</th>\n",
              "      <td>Vehicle28633</td>\n",
              "      <td>Toyota</td>\n",
              "      <td>CRV</td>\n",
              "      <td>2010</td>\n",
              "    </tr>\n",
              "  </tbody>\n",
              "</table>\n",
              "</div>"
            ],
            "text/plain": [
              "VehicleAttribute     VehicleID VehicleMake VehicleModel VehicleYOM\n",
              "CustomerID                                                        \n",
              "Cust10000         Vehicle26917        Audi           A5       2008\n",
              "Cust10001         Vehicle15893        Audi           A5       2006\n",
              "Cust10002          Vehicle5152  Volkswagen        Jetta       1999\n",
              "Cust10003         Vehicle37363  Volkswagen        Jetta       2003\n",
              "Cust10004         Vehicle28633      Toyota          CRV       2010"
            ]
          },
          "metadata": {
            "tags": []
          },
          "execution_count": 166
        }
      ]
    },
    {
      "cell_type": "code",
      "metadata": {
        "id": "g62Q0wNUui6j"
      },
      "source": [
        "# Merging files into Consolidated one\n",
        "df1 = pd.merge(Train_no_target, Train_Claim, on='CustomerID', how='left')\n",
        "df2 = pd.merge(df1, Train_Demo, on='CustomerID', how='left')\n",
        "df3 = pd.merge(df2, Train_Policy, on='CustomerID', how='left')\n",
        "merged_data = pd.merge(df3, df,on='CustomerID', how='left' )\n"
      ],
      "execution_count": null,
      "outputs": []
    },
    {
      "cell_type": "code",
      "metadata": {
        "colab": {
          "base_uri": "https://localhost:8080/",
          "height": 309
        },
        "id": "iJhuOICItq9_",
        "outputId": "f9076526-5b5f-4c46-847e-7db5e2ea74ac"
      },
      "source": [
        "# Displaying first few records\n",
        "merged_data.head()"
      ],
      "execution_count": null,
      "outputs": [
        {
          "output_type": "execute_result",
          "data": {
            "text/html": [
              "<div>\n",
              "<style scoped>\n",
              "    .dataframe tbody tr th:only-of-type {\n",
              "        vertical-align: middle;\n",
              "    }\n",
              "\n",
              "    .dataframe tbody tr th {\n",
              "        vertical-align: top;\n",
              "    }\n",
              "\n",
              "    .dataframe thead th {\n",
              "        text-align: right;\n",
              "    }\n",
              "</style>\n",
              "<table border=\"1\" class=\"dataframe\">\n",
              "  <thead>\n",
              "    <tr style=\"text-align: right;\">\n",
              "      <th></th>\n",
              "      <th>CustomerID</th>\n",
              "      <th>DateOfIncident</th>\n",
              "      <th>TypeOfIncident</th>\n",
              "      <th>TypeOfCollission</th>\n",
              "      <th>SeverityOfIncident</th>\n",
              "      <th>AuthoritiesContacted</th>\n",
              "      <th>IncidentState</th>\n",
              "      <th>IncidentCity</th>\n",
              "      <th>IncidentAddress</th>\n",
              "      <th>IncidentTime</th>\n",
              "      <th>NumberOfVehicles</th>\n",
              "      <th>PropertyDamage</th>\n",
              "      <th>BodilyInjuries</th>\n",
              "      <th>Witnesses</th>\n",
              "      <th>PoliceReport</th>\n",
              "      <th>AmountOfTotalClaim</th>\n",
              "      <th>AmountOfInjuryClaim</th>\n",
              "      <th>AmountOfPropertyClaim</th>\n",
              "      <th>AmountOfVehicleDamage</th>\n",
              "      <th>InsuredAge</th>\n",
              "      <th>InsuredZipCode</th>\n",
              "      <th>InsuredGender</th>\n",
              "      <th>InsuredEducationLevel</th>\n",
              "      <th>InsuredOccupation</th>\n",
              "      <th>InsuredHobbies</th>\n",
              "      <th>CapitalGains</th>\n",
              "      <th>CapitalLoss</th>\n",
              "      <th>Country</th>\n",
              "      <th>InsurancePolicyNumber</th>\n",
              "      <th>CustomerLoyaltyPeriod</th>\n",
              "      <th>DateOfPolicyCoverage</th>\n",
              "      <th>InsurancePolicyState</th>\n",
              "      <th>Policy_CombinedSingleLimit</th>\n",
              "      <th>Policy_Deductible</th>\n",
              "      <th>PolicyAnnualPremium</th>\n",
              "      <th>UmbrellaLimit</th>\n",
              "      <th>InsuredRelationship</th>\n",
              "      <th>VehicleID</th>\n",
              "      <th>VehicleMake</th>\n",
              "      <th>VehicleModel</th>\n",
              "      <th>VehicleYOM</th>\n",
              "    </tr>\n",
              "  </thead>\n",
              "  <tbody>\n",
              "    <tr>\n",
              "      <th>0</th>\n",
              "      <td>Cust20065</td>\n",
              "      <td>2015-01-09</td>\n",
              "      <td>Multi-vehicle Collision</td>\n",
              "      <td>Rear Collision</td>\n",
              "      <td>Total Loss</td>\n",
              "      <td>Other</td>\n",
              "      <td>State9</td>\n",
              "      <td>City4</td>\n",
              "      <td>Location 1404</td>\n",
              "      <td>19</td>\n",
              "      <td>3</td>\n",
              "      <td>?</td>\n",
              "      <td>1</td>\n",
              "      <td>1.0</td>\n",
              "      <td>?</td>\n",
              "      <td>43973.0</td>\n",
              "      <td>9396</td>\n",
              "      <td>4698</td>\n",
              "      <td>29879</td>\n",
              "      <td>58</td>\n",
              "      <td>471784</td>\n",
              "      <td>MALE</td>\n",
              "      <td>JD</td>\n",
              "      <td>sales</td>\n",
              "      <td>video-games</td>\n",
              "      <td>0</td>\n",
              "      <td>-42700</td>\n",
              "      <td>India</td>\n",
              "      <td>129186</td>\n",
              "      <td>432</td>\n",
              "      <td>1998-11-14</td>\n",
              "      <td>State2</td>\n",
              "      <td>250/500</td>\n",
              "      <td>2000</td>\n",
              "      <td>1142.87</td>\n",
              "      <td>0</td>\n",
              "      <td>own-child</td>\n",
              "      <td>Vehicle30662</td>\n",
              "      <td>Mercedes</td>\n",
              "      <td>E400</td>\n",
              "      <td>2005</td>\n",
              "    </tr>\n",
              "    <tr>\n",
              "      <th>1</th>\n",
              "      <td>Cust37589</td>\n",
              "      <td>2015-02-20</td>\n",
              "      <td>Single Vehicle Collision</td>\n",
              "      <td>Side Collision</td>\n",
              "      <td>Minor Damage</td>\n",
              "      <td>Ambulance</td>\n",
              "      <td>State4</td>\n",
              "      <td>City3</td>\n",
              "      <td>Location 1675</td>\n",
              "      <td>14</td>\n",
              "      <td>1</td>\n",
              "      <td>?</td>\n",
              "      <td>1</td>\n",
              "      <td>1.0</td>\n",
              "      <td>YES</td>\n",
              "      <td>62310.0</td>\n",
              "      <td>6539</td>\n",
              "      <td>6539</td>\n",
              "      <td>49232</td>\n",
              "      <td>34</td>\n",
              "      <td>431937</td>\n",
              "      <td>FEMALE</td>\n",
              "      <td>High School</td>\n",
              "      <td>transport-moving</td>\n",
              "      <td>polo</td>\n",
              "      <td>51300</td>\n",
              "      <td>0</td>\n",
              "      <td>India</td>\n",
              "      <td>146710</td>\n",
              "      <td>128</td>\n",
              "      <td>2000-08-19</td>\n",
              "      <td>State2</td>\n",
              "      <td>100/300</td>\n",
              "      <td>1000</td>\n",
              "      <td>1274.38</td>\n",
              "      <td>2857344</td>\n",
              "      <td>own-child</td>\n",
              "      <td>Vehicle17183</td>\n",
              "      <td>Toyota</td>\n",
              "      <td>Highlander</td>\n",
              "      <td>2010</td>\n",
              "    </tr>\n",
              "    <tr>\n",
              "      <th>2</th>\n",
              "      <td>Cust24312</td>\n",
              "      <td>2015-01-14</td>\n",
              "      <td>Multi-vehicle Collision</td>\n",
              "      <td>Side Collision</td>\n",
              "      <td>Major Damage</td>\n",
              "      <td>Ambulance</td>\n",
              "      <td>State5</td>\n",
              "      <td>City2</td>\n",
              "      <td>Location 1546</td>\n",
              "      <td>21</td>\n",
              "      <td>3</td>\n",
              "      <td>?</td>\n",
              "      <td>0</td>\n",
              "      <td>0.0</td>\n",
              "      <td>?</td>\n",
              "      <td>42824.0</td>\n",
              "      <td>6069</td>\n",
              "      <td>6069</td>\n",
              "      <td>30686</td>\n",
              "      <td>52</td>\n",
              "      <td>479320</td>\n",
              "      <td>FEMALE</td>\n",
              "      <td>PhD</td>\n",
              "      <td>machine-op-inspct</td>\n",
              "      <td>exercise</td>\n",
              "      <td>0</td>\n",
              "      <td>0</td>\n",
              "      <td>India</td>\n",
              "      <td>133433</td>\n",
              "      <td>346</td>\n",
              "      <td>2000-06-23</td>\n",
              "      <td>State1</td>\n",
              "      <td>500/1000</td>\n",
              "      <td>745</td>\n",
              "      <td>1269.93</td>\n",
              "      <td>0</td>\n",
              "      <td>other-relative</td>\n",
              "      <td>Vehicle33982</td>\n",
              "      <td>Volkswagen</td>\n",
              "      <td>Passat</td>\n",
              "      <td>2002</td>\n",
              "    </tr>\n",
              "    <tr>\n",
              "      <th>3</th>\n",
              "      <td>Cust5493</td>\n",
              "      <td>2015-01-07</td>\n",
              "      <td>Multi-vehicle Collision</td>\n",
              "      <td>Side Collision</td>\n",
              "      <td>Major Damage</td>\n",
              "      <td>Ambulance</td>\n",
              "      <td>State7</td>\n",
              "      <td>City4</td>\n",
              "      <td>Location 1413</td>\n",
              "      <td>12</td>\n",
              "      <td>3</td>\n",
              "      <td>YES</td>\n",
              "      <td>2</td>\n",
              "      <td>0.0</td>\n",
              "      <td>?</td>\n",
              "      <td>45672.0</td>\n",
              "      <td>253</td>\n",
              "      <td>5741</td>\n",
              "      <td>39678</td>\n",
              "      <td>25</td>\n",
              "      <td>607763</td>\n",
              "      <td>FEMALE</td>\n",
              "      <td>College</td>\n",
              "      <td>exec-managerial</td>\n",
              "      <td>exercise</td>\n",
              "      <td>47400</td>\n",
              "      <td>-56100</td>\n",
              "      <td>India</td>\n",
              "      <td>114614</td>\n",
              "      <td>42</td>\n",
              "      <td>1992-01-15</td>\n",
              "      <td>State2</td>\n",
              "      <td>100/300</td>\n",
              "      <td>986</td>\n",
              "      <td>1218.60</td>\n",
              "      <td>0</td>\n",
              "      <td>other-relative</td>\n",
              "      <td>Vehicle12299</td>\n",
              "      <td>Toyota</td>\n",
              "      <td>Highlander</td>\n",
              "      <td>2011</td>\n",
              "    </tr>\n",
              "    <tr>\n",
              "      <th>4</th>\n",
              "      <td>Cust7704</td>\n",
              "      <td>2015-02-26</td>\n",
              "      <td>Multi-vehicle Collision</td>\n",
              "      <td>Side Collision</td>\n",
              "      <td>Major Damage</td>\n",
              "      <td>Other</td>\n",
              "      <td>State4</td>\n",
              "      <td>City6</td>\n",
              "      <td>Location 1367</td>\n",
              "      <td>3</td>\n",
              "      <td>3</td>\n",
              "      <td>NO</td>\n",
              "      <td>1</td>\n",
              "      <td>2.0</td>\n",
              "      <td>NO</td>\n",
              "      <td>81472.0</td>\n",
              "      <td>7407</td>\n",
              "      <td>14813</td>\n",
              "      <td>59252</td>\n",
              "      <td>27</td>\n",
              "      <td>441783</td>\n",
              "      <td>MALE</td>\n",
              "      <td>Masters</td>\n",
              "      <td>sales</td>\n",
              "      <td>chess</td>\n",
              "      <td>0</td>\n",
              "      <td>0</td>\n",
              "      <td>India</td>\n",
              "      <td>116825</td>\n",
              "      <td>109</td>\n",
              "      <td>2001-09-23</td>\n",
              "      <td>State3</td>\n",
              "      <td>250/500</td>\n",
              "      <td>576</td>\n",
              "      <td>1431.02</td>\n",
              "      <td>4235779</td>\n",
              "      <td>unmarried</td>\n",
              "      <td>Vehicle30447</td>\n",
              "      <td>Ford</td>\n",
              "      <td>Wrangler</td>\n",
              "      <td>2010</td>\n",
              "    </tr>\n",
              "  </tbody>\n",
              "</table>\n",
              "</div>"
            ],
            "text/plain": [
              "  CustomerID DateOfIncident  ... VehicleModel VehicleYOM\n",
              "0  Cust20065     2015-01-09  ...         E400       2005\n",
              "1  Cust37589     2015-02-20  ...   Highlander       2010\n",
              "2  Cust24312     2015-01-14  ...       Passat       2002\n",
              "3   Cust5493     2015-01-07  ...   Highlander       2011\n",
              "4   Cust7704     2015-02-26  ...     Wrangler       2010\n",
              "\n",
              "[5 rows x 41 columns]"
            ]
          },
          "metadata": {
            "tags": []
          },
          "execution_count": 170
        }
      ]
    },
    {
      "cell_type": "code",
      "metadata": {
        "colab": {
          "base_uri": "https://localhost:8080/"
        },
        "id": "hwCnCLnDJJsg",
        "outputId": "cc45b85a-e3c9-4520-9f05-99688ba74812"
      },
      "source": [
        "merged_data.shape"
      ],
      "execution_count": null,
      "outputs": [
        {
          "output_type": "execute_result",
          "data": {
            "text/plain": [
              "(28836, 41)"
            ]
          },
          "metadata": {
            "tags": []
          },
          "execution_count": 168
        }
      ]
    },
    {
      "cell_type": "code",
      "metadata": {
        "colab": {
          "base_uri": "https://localhost:8080/"
        },
        "id": "Toy82WaxwgXX",
        "outputId": "0ca37cb7-64d9-4143-b23a-3578c661dc7f"
      },
      "source": [
        "Train_Vehicle.shape"
      ],
      "execution_count": null,
      "outputs": [
        {
          "output_type": "execute_result",
          "data": {
            "text/plain": [
              "(115344, 3)"
            ]
          },
          "metadata": {
            "tags": []
          },
          "execution_count": 169
        }
      ]
    },
    {
      "cell_type": "code",
      "metadata": {
        "colab": {
          "base_uri": "https://localhost:8080/",
          "height": 142
        },
        "id": "2ZMPTERtw2N-",
        "outputId": "2ee7b7d5-a27a-47d1-ed3a-814d2c988dea"
      },
      "source": [
        "Train_Vehicle.head(3)"
      ],
      "execution_count": null,
      "outputs": [
        {
          "output_type": "execute_result",
          "data": {
            "text/html": [
              "<div>\n",
              "<style scoped>\n",
              "    .dataframe tbody tr th:only-of-type {\n",
              "        vertical-align: middle;\n",
              "    }\n",
              "\n",
              "    .dataframe tbody tr th {\n",
              "        vertical-align: top;\n",
              "    }\n",
              "\n",
              "    .dataframe thead th {\n",
              "        text-align: right;\n",
              "    }\n",
              "</style>\n",
              "<table border=\"1\" class=\"dataframe\">\n",
              "  <thead>\n",
              "    <tr style=\"text-align: right;\">\n",
              "      <th></th>\n",
              "      <th>CustomerID</th>\n",
              "      <th>VehicleAttribute</th>\n",
              "      <th>VehicleAttributeDetails</th>\n",
              "    </tr>\n",
              "  </thead>\n",
              "  <tbody>\n",
              "    <tr>\n",
              "      <th>0</th>\n",
              "      <td>Cust20179</td>\n",
              "      <td>VehicleID</td>\n",
              "      <td>Vehicle8898</td>\n",
              "    </tr>\n",
              "    <tr>\n",
              "      <th>1</th>\n",
              "      <td>Cust21384</td>\n",
              "      <td>VehicleModel</td>\n",
              "      <td>Malibu</td>\n",
              "    </tr>\n",
              "    <tr>\n",
              "      <th>2</th>\n",
              "      <td>Cust33335</td>\n",
              "      <td>VehicleMake</td>\n",
              "      <td>Toyota</td>\n",
              "    </tr>\n",
              "  </tbody>\n",
              "</table>\n",
              "</div>"
            ],
            "text/plain": [
              "  CustomerID VehicleAttribute VehicleAttributeDetails\n",
              "0  Cust20179        VehicleID             Vehicle8898\n",
              "1  Cust21384     VehicleModel                  Malibu\n",
              "2  Cust33335      VehicleMake                  Toyota"
            ]
          },
          "metadata": {
            "tags": []
          },
          "execution_count": 14
        }
      ]
    },
    {
      "cell_type": "code",
      "metadata": {
        "colab": {
          "base_uri": "https://localhost:8080/"
        },
        "id": "Ww29jjobxfRj",
        "outputId": "dfb47681-37a1-4692-edbd-fa2feacbb26e"
      },
      "source": [
        "Train_Vehicle.nunique()"
      ],
      "execution_count": null,
      "outputs": [
        {
          "output_type": "execute_result",
          "data": {
            "text/plain": [
              "CustomerID                 28836\n",
              "VehicleAttribute               4\n",
              "VehicleAttributeDetails    28910\n",
              "dtype: int64"
            ]
          },
          "metadata": {
            "tags": []
          },
          "execution_count": 15
        }
      ]
    },
    {
      "cell_type": "code",
      "metadata": {
        "colab": {
          "base_uri": "https://localhost:8080/"
        },
        "id": "RXumVDBbMy9f",
        "outputId": "898e1a8b-9757-41c2-987d-41a1e8851487"
      },
      "source": [
        "# Checking for missing values\n",
        "merged_data.isnull().sum()"
      ],
      "execution_count": null,
      "outputs": [
        {
          "output_type": "execute_result",
          "data": {
            "text/plain": [
              "CustomerID                      0\n",
              "DateOfIncident                  0\n",
              "TypeOfIncident                  0\n",
              "TypeOfCollission                0\n",
              "SeverityOfIncident              0\n",
              "AuthoritiesContacted            0\n",
              "IncidentState                   0\n",
              "IncidentCity                    0\n",
              "IncidentAddress                 0\n",
              "IncidentTime                    0\n",
              "NumberOfVehicles                0\n",
              "PropertyDamage                  0\n",
              "BodilyInjuries                  0\n",
              "Witnesses                      46\n",
              "PoliceReport                    0\n",
              "AmountOfTotalClaim             50\n",
              "AmountOfInjuryClaim             0\n",
              "AmountOfPropertyClaim           0\n",
              "AmountOfVehicleDamage           0\n",
              "InsuredAge                      0\n",
              "InsuredZipCode                  0\n",
              "InsuredGender                  30\n",
              "InsuredEducationLevel           0\n",
              "InsuredOccupation               0\n",
              "InsuredHobbies                  0\n",
              "CapitalGains                    0\n",
              "CapitalLoss                     0\n",
              "Country                         2\n",
              "InsurancePolicyNumber           0\n",
              "CustomerLoyaltyPeriod           0\n",
              "DateOfPolicyCoverage            0\n",
              "InsurancePolicyState            0\n",
              "Policy_CombinedSingleLimit      0\n",
              "Policy_Deductible               0\n",
              "PolicyAnnualPremium           141\n",
              "UmbrellaLimit                   0\n",
              "InsuredRelationship             0\n",
              "VehicleID                       0\n",
              "VehicleMake                    50\n",
              "VehicleModel                    0\n",
              "VehicleYOM                      0\n",
              "dtype: int64"
            ]
          },
          "metadata": {
            "tags": []
          },
          "execution_count": 13
        }
      ]
    },
    {
      "cell_type": "code",
      "metadata": {
        "colab": {
          "base_uri": "https://localhost:8080/"
        },
        "id": "a7o0n4gYQD7k",
        "outputId": "44d7b8ac-83ef-4eaf-cebb-b0be5092232c"
      },
      "source": [
        "unknowns = {}\n",
        "for i in list(merged_data.columns):\n",
        "    if (merged_data[i]).dtype == object:\n",
        "        j = np.sum(merged_data[i] == \"?\")\n",
        "        unknowns[i] = j\n",
        "unknowns = pd.DataFrame.from_dict(unknowns, orient = 'index')\n",
        "print(unknowns)"
      ],
      "execution_count": null,
      "outputs": [
        {
          "output_type": "stream",
          "text": [
            "                                0\n",
            "CustomerID                      0\n",
            "DateOfIncident                  0\n",
            "TypeOfIncident                  0\n",
            "TypeOfCollission             5162\n",
            "SeverityOfIncident              0\n",
            "AuthoritiesContacted            0\n",
            "IncidentState                   0\n",
            "IncidentCity                    0\n",
            "IncidentAddress                 0\n",
            "PropertyDamage              10459\n",
            "PoliceReport                 9805\n",
            "InsuredGender                   0\n",
            "InsuredEducationLevel           0\n",
            "InsuredOccupation               0\n",
            "InsuredHobbies                  0\n",
            "Country                         0\n",
            "DateOfPolicyCoverage            0\n",
            "InsurancePolicyState            0\n",
            "Policy_CombinedSingleLimit      0\n",
            "InsuredRelationship             0\n",
            "VehicleID                       0\n",
            "VehicleMake                     0\n",
            "VehicleModel                    0\n",
            "VehicleYOM                      0\n"
          ],
          "name": "stdout"
        }
      ]
    },
    {
      "cell_type": "markdown",
      "metadata": {
        "id": "k2uVygyFN7Ba"
      },
      "source": [
        "**Observation**:\n",
        "  There are huge misssing values for the attributes such as Type of collision, Property damage and Police report. These attributes need to be investigated first.\n"
      ]
    },
    {
      "cell_type": "code",
      "metadata": {
        "colab": {
          "base_uri": "https://localhost:8080/"
        },
        "id": "byX4mYAPt-M9",
        "outputId": "d69ca725-3e9e-40b6-d5c4-997c8ce83a5e"
      },
      "source": [
        "merged_data.dtypes"
      ],
      "execution_count": null,
      "outputs": [
        {
          "output_type": "execute_result",
          "data": {
            "text/plain": [
              "CustomerID                     object\n",
              "DateOfIncident                 object\n",
              "TypeOfIncident                 object\n",
              "TypeOfCollission               object\n",
              "SeverityOfIncident             object\n",
              "AuthoritiesContacted           object\n",
              "IncidentState                  object\n",
              "IncidentCity                   object\n",
              "IncidentAddress                object\n",
              "IncidentTime                    int64\n",
              "NumberOfVehicles                int64\n",
              "PropertyDamage                 object\n",
              "BodilyInjuries                  int64\n",
              "Witnesses                     float64\n",
              "PoliceReport                   object\n",
              "AmountOfTotalClaim            float64\n",
              "AmountOfInjuryClaim             int64\n",
              "AmountOfPropertyClaim           int64\n",
              "AmountOfVehicleDamage           int64\n",
              "InsuredAge                      int64\n",
              "InsuredZipCode                  int64\n",
              "InsuredGender                  object\n",
              "InsuredEducationLevel          object\n",
              "InsuredOccupation              object\n",
              "InsuredHobbies                 object\n",
              "CapitalGains                    int64\n",
              "CapitalLoss                     int64\n",
              "Country                        object\n",
              "InsurancePolicyNumber           int64\n",
              "CustomerLoyaltyPeriod           int64\n",
              "DateOfPolicyCoverage           object\n",
              "InsurancePolicyState           object\n",
              "Policy_CombinedSingleLimit     object\n",
              "Policy_Deductible               int64\n",
              "PolicyAnnualPremium           float64\n",
              "UmbrellaLimit                   int64\n",
              "InsuredRelationship            object\n",
              "VehicleID                      object\n",
              "VehicleMake                    object\n",
              "VehicleModel                   object\n",
              "VehicleYOM                     object\n",
              "dtype: object"
            ]
          },
          "metadata": {
            "tags": []
          },
          "execution_count": 172
        }
      ]
    },
    {
      "cell_type": "code",
      "metadata": {
        "colab": {
          "base_uri": "https://localhost:8080/",
          "height": 1000
        },
        "id": "wjVQbLNIuII7",
        "outputId": "89ea80e8-eaad-47ab-844d-e479174a8d5f"
      },
      "source": [
        "merged_data.describe(include='all').T"
      ],
      "execution_count": null,
      "outputs": [
        {
          "output_type": "execute_result",
          "data": {
            "text/html": [
              "<div>\n",
              "<style scoped>\n",
              "    .dataframe tbody tr th:only-of-type {\n",
              "        vertical-align: middle;\n",
              "    }\n",
              "\n",
              "    .dataframe tbody tr th {\n",
              "        vertical-align: top;\n",
              "    }\n",
              "\n",
              "    .dataframe thead th {\n",
              "        text-align: right;\n",
              "    }\n",
              "</style>\n",
              "<table border=\"1\" class=\"dataframe\">\n",
              "  <thead>\n",
              "    <tr style=\"text-align: right;\">\n",
              "      <th></th>\n",
              "      <th>count</th>\n",
              "      <th>unique</th>\n",
              "      <th>top</th>\n",
              "      <th>freq</th>\n",
              "      <th>mean</th>\n",
              "      <th>std</th>\n",
              "      <th>min</th>\n",
              "      <th>25%</th>\n",
              "      <th>50%</th>\n",
              "      <th>75%</th>\n",
              "      <th>max</th>\n",
              "    </tr>\n",
              "  </thead>\n",
              "  <tbody>\n",
              "    <tr>\n",
              "      <th>CustomerID</th>\n",
              "      <td>28836</td>\n",
              "      <td>28836</td>\n",
              "      <td>Cust30422</td>\n",
              "      <td>1</td>\n",
              "      <td>NaN</td>\n",
              "      <td>NaN</td>\n",
              "      <td>NaN</td>\n",
              "      <td>NaN</td>\n",
              "      <td>NaN</td>\n",
              "      <td>NaN</td>\n",
              "      <td>NaN</td>\n",
              "    </tr>\n",
              "    <tr>\n",
              "      <th>DateOfIncident</th>\n",
              "      <td>28836</td>\n",
              "      <td>72</td>\n",
              "      <td>2015-01-10</td>\n",
              "      <td>661</td>\n",
              "      <td>NaN</td>\n",
              "      <td>NaN</td>\n",
              "      <td>NaN</td>\n",
              "      <td>NaN</td>\n",
              "      <td>NaN</td>\n",
              "      <td>NaN</td>\n",
              "      <td>NaN</td>\n",
              "    </tr>\n",
              "    <tr>\n",
              "      <th>TypeOfIncident</th>\n",
              "      <td>28836</td>\n",
              "      <td>4</td>\n",
              "      <td>Multi-vehicle Collision</td>\n",
              "      <td>11966</td>\n",
              "      <td>NaN</td>\n",
              "      <td>NaN</td>\n",
              "      <td>NaN</td>\n",
              "      <td>NaN</td>\n",
              "      <td>NaN</td>\n",
              "      <td>NaN</td>\n",
              "      <td>NaN</td>\n",
              "    </tr>\n",
              "    <tr>\n",
              "      <th>TypeOfCollission</th>\n",
              "      <td>28836</td>\n",
              "      <td>4</td>\n",
              "      <td>Rear Collision</td>\n",
              "      <td>8561</td>\n",
              "      <td>NaN</td>\n",
              "      <td>NaN</td>\n",
              "      <td>NaN</td>\n",
              "      <td>NaN</td>\n",
              "      <td>NaN</td>\n",
              "      <td>NaN</td>\n",
              "      <td>NaN</td>\n",
              "    </tr>\n",
              "    <tr>\n",
              "      <th>SeverityOfIncident</th>\n",
              "      <td>28836</td>\n",
              "      <td>4</td>\n",
              "      <td>Minor Damage</td>\n",
              "      <td>10400</td>\n",
              "      <td>NaN</td>\n",
              "      <td>NaN</td>\n",
              "      <td>NaN</td>\n",
              "      <td>NaN</td>\n",
              "      <td>NaN</td>\n",
              "      <td>NaN</td>\n",
              "      <td>NaN</td>\n",
              "    </tr>\n",
              "    <tr>\n",
              "      <th>AuthoritiesContacted</th>\n",
              "      <td>28836</td>\n",
              "      <td>5</td>\n",
              "      <td>Police</td>\n",
              "      <td>8324</td>\n",
              "      <td>NaN</td>\n",
              "      <td>NaN</td>\n",
              "      <td>NaN</td>\n",
              "      <td>NaN</td>\n",
              "      <td>NaN</td>\n",
              "      <td>NaN</td>\n",
              "      <td>NaN</td>\n",
              "    </tr>\n",
              "    <tr>\n",
              "      <th>IncidentState</th>\n",
              "      <td>28836</td>\n",
              "      <td>7</td>\n",
              "      <td>State5</td>\n",
              "      <td>7886</td>\n",
              "      <td>NaN</td>\n",
              "      <td>NaN</td>\n",
              "      <td>NaN</td>\n",
              "      <td>NaN</td>\n",
              "      <td>NaN</td>\n",
              "      <td>NaN</td>\n",
              "      <td>NaN</td>\n",
              "    </tr>\n",
              "    <tr>\n",
              "      <th>IncidentCity</th>\n",
              "      <td>28836</td>\n",
              "      <td>7</td>\n",
              "      <td>City2</td>\n",
              "      <td>4486</td>\n",
              "      <td>NaN</td>\n",
              "      <td>NaN</td>\n",
              "      <td>NaN</td>\n",
              "      <td>NaN</td>\n",
              "      <td>NaN</td>\n",
              "      <td>NaN</td>\n",
              "      <td>NaN</td>\n",
              "    </tr>\n",
              "    <tr>\n",
              "      <th>IncidentAddress</th>\n",
              "      <td>28836</td>\n",
              "      <td>1000</td>\n",
              "      <td>Location 1341</td>\n",
              "      <td>73</td>\n",
              "      <td>NaN</td>\n",
              "      <td>NaN</td>\n",
              "      <td>NaN</td>\n",
              "      <td>NaN</td>\n",
              "      <td>NaN</td>\n",
              "      <td>NaN</td>\n",
              "      <td>NaN</td>\n",
              "    </tr>\n",
              "    <tr>\n",
              "      <th>IncidentTime</th>\n",
              "      <td>28836</td>\n",
              "      <td>NaN</td>\n",
              "      <td>NaN</td>\n",
              "      <td>NaN</td>\n",
              "      <td>11.746</td>\n",
              "      <td>6.17007</td>\n",
              "      <td>-5</td>\n",
              "      <td>6</td>\n",
              "      <td>12</td>\n",
              "      <td>17</td>\n",
              "      <td>23</td>\n",
              "    </tr>\n",
              "    <tr>\n",
              "      <th>NumberOfVehicles</th>\n",
              "      <td>28836</td>\n",
              "      <td>NaN</td>\n",
              "      <td>NaN</td>\n",
              "      <td>NaN</td>\n",
              "      <td>1.82321</td>\n",
              "      <td>0.980099</td>\n",
              "      <td>1</td>\n",
              "      <td>1</td>\n",
              "      <td>1</td>\n",
              "      <td>3</td>\n",
              "      <td>4</td>\n",
              "    </tr>\n",
              "    <tr>\n",
              "      <th>PropertyDamage</th>\n",
              "      <td>28836</td>\n",
              "      <td>3</td>\n",
              "      <td>?</td>\n",
              "      <td>10459</td>\n",
              "      <td>NaN</td>\n",
              "      <td>NaN</td>\n",
              "      <td>NaN</td>\n",
              "      <td>NaN</td>\n",
              "      <td>NaN</td>\n",
              "      <td>NaN</td>\n",
              "      <td>NaN</td>\n",
              "    </tr>\n",
              "    <tr>\n",
              "      <th>BodilyInjuries</th>\n",
              "      <td>28836</td>\n",
              "      <td>NaN</td>\n",
              "      <td>NaN</td>\n",
              "      <td>NaN</td>\n",
              "      <td>0.985782</td>\n",
              "      <td>0.784764</td>\n",
              "      <td>0</td>\n",
              "      <td>0</td>\n",
              "      <td>1</td>\n",
              "      <td>2</td>\n",
              "      <td>2</td>\n",
              "    </tr>\n",
              "    <tr>\n",
              "      <th>Witnesses</th>\n",
              "      <td>28790</td>\n",
              "      <td>NaN</td>\n",
              "      <td>NaN</td>\n",
              "      <td>NaN</td>\n",
              "      <td>1.48826</td>\n",
              "      <td>1.04079</td>\n",
              "      <td>0</td>\n",
              "      <td>1</td>\n",
              "      <td>1</td>\n",
              "      <td>2</td>\n",
              "      <td>3</td>\n",
              "    </tr>\n",
              "    <tr>\n",
              "      <th>PoliceReport</th>\n",
              "      <td>28836</td>\n",
              "      <td>3</td>\n",
              "      <td>NO</td>\n",
              "      <td>9898</td>\n",
              "      <td>NaN</td>\n",
              "      <td>NaN</td>\n",
              "      <td>NaN</td>\n",
              "      <td>NaN</td>\n",
              "      <td>NaN</td>\n",
              "      <td>NaN</td>\n",
              "      <td>NaN</td>\n",
              "    </tr>\n",
              "    <tr>\n",
              "      <th>AmountOfTotalClaim</th>\n",
              "      <td>28786</td>\n",
              "      <td>NaN</td>\n",
              "      <td>NaN</td>\n",
              "      <td>NaN</td>\n",
              "      <td>52308.5</td>\n",
              "      <td>25101.2</td>\n",
              "      <td>150</td>\n",
              "      <td>44643.8</td>\n",
              "      <td>58360</td>\n",
              "      <td>68982.8</td>\n",
              "      <td>114920</td>\n",
              "    </tr>\n",
              "    <tr>\n",
              "      <th>AmountOfInjuryClaim</th>\n",
              "      <td>28836</td>\n",
              "      <td>NaN</td>\n",
              "      <td>NaN</td>\n",
              "      <td>NaN</td>\n",
              "      <td>7337.12</td>\n",
              "      <td>4427.64</td>\n",
              "      <td>0</td>\n",
              "      <td>4743.75</td>\n",
              "      <td>7147</td>\n",
              "      <td>10571.2</td>\n",
              "      <td>21450</td>\n",
              "    </tr>\n",
              "    <tr>\n",
              "      <th>AmountOfPropertyClaim</th>\n",
              "      <td>28836</td>\n",
              "      <td>NaN</td>\n",
              "      <td>NaN</td>\n",
              "      <td>NaN</td>\n",
              "      <td>7283.87</td>\n",
              "      <td>4375.84</td>\n",
              "      <td>0</td>\n",
              "      <td>4862</td>\n",
              "      <td>7051</td>\n",
              "      <td>10327</td>\n",
              "      <td>23670</td>\n",
              "    </tr>\n",
              "    <tr>\n",
              "      <th>AmountOfVehicleDamage</th>\n",
              "      <td>28836</td>\n",
              "      <td>NaN</td>\n",
              "      <td>NaN</td>\n",
              "      <td>NaN</td>\n",
              "      <td>37687.1</td>\n",
              "      <td>17977</td>\n",
              "      <td>109</td>\n",
              "      <td>32193.2</td>\n",
              "      <td>42457.5</td>\n",
              "      <td>49535.8</td>\n",
              "      <td>79560</td>\n",
              "    </tr>\n",
              "    <tr>\n",
              "      <th>InsuredAge</th>\n",
              "      <td>28836</td>\n",
              "      <td>NaN</td>\n",
              "      <td>NaN</td>\n",
              "      <td>NaN</td>\n",
              "      <td>38.8154</td>\n",
              "      <td>7.99638</td>\n",
              "      <td>19</td>\n",
              "      <td>33</td>\n",
              "      <td>38</td>\n",
              "      <td>44</td>\n",
              "      <td>64</td>\n",
              "    </tr>\n",
              "    <tr>\n",
              "      <th>InsuredZipCode</th>\n",
              "      <td>28836</td>\n",
              "      <td>NaN</td>\n",
              "      <td>NaN</td>\n",
              "      <td>NaN</td>\n",
              "      <td>502437</td>\n",
              "      <td>72250.9</td>\n",
              "      <td>430104</td>\n",
              "      <td>448603</td>\n",
              "      <td>466691</td>\n",
              "      <td>603848</td>\n",
              "      <td>620962</td>\n",
              "    </tr>\n",
              "    <tr>\n",
              "      <th>InsuredGender</th>\n",
              "      <td>28806</td>\n",
              "      <td>2</td>\n",
              "      <td>FEMALE</td>\n",
              "      <td>15644</td>\n",
              "      <td>NaN</td>\n",
              "      <td>NaN</td>\n",
              "      <td>NaN</td>\n",
              "      <td>NaN</td>\n",
              "      <td>NaN</td>\n",
              "      <td>NaN</td>\n",
              "      <td>NaN</td>\n",
              "    </tr>\n",
              "    <tr>\n",
              "      <th>InsuredEducationLevel</th>\n",
              "      <td>28836</td>\n",
              "      <td>7</td>\n",
              "      <td>JD</td>\n",
              "      <td>4808</td>\n",
              "      <td>NaN</td>\n",
              "      <td>NaN</td>\n",
              "      <td>NaN</td>\n",
              "      <td>NaN</td>\n",
              "      <td>NaN</td>\n",
              "      <td>NaN</td>\n",
              "      <td>NaN</td>\n",
              "    </tr>\n",
              "    <tr>\n",
              "      <th>InsuredOccupation</th>\n",
              "      <td>28836</td>\n",
              "      <td>14</td>\n",
              "      <td>machine-op-inspct</td>\n",
              "      <td>2798</td>\n",
              "      <td>NaN</td>\n",
              "      <td>NaN</td>\n",
              "      <td>NaN</td>\n",
              "      <td>NaN</td>\n",
              "      <td>NaN</td>\n",
              "      <td>NaN</td>\n",
              "      <td>NaN</td>\n",
              "    </tr>\n",
              "    <tr>\n",
              "      <th>InsuredHobbies</th>\n",
              "      <td>28836</td>\n",
              "      <td>20</td>\n",
              "      <td>bungie-jumping</td>\n",
              "      <td>1751</td>\n",
              "      <td>NaN</td>\n",
              "      <td>NaN</td>\n",
              "      <td>NaN</td>\n",
              "      <td>NaN</td>\n",
              "      <td>NaN</td>\n",
              "      <td>NaN</td>\n",
              "      <td>NaN</td>\n",
              "    </tr>\n",
              "    <tr>\n",
              "      <th>CapitalGains</th>\n",
              "      <td>28836</td>\n",
              "      <td>NaN</td>\n",
              "      <td>NaN</td>\n",
              "      <td>NaN</td>\n",
              "      <td>23066.6</td>\n",
              "      <td>27637.8</td>\n",
              "      <td>0</td>\n",
              "      <td>0</td>\n",
              "      <td>0</td>\n",
              "      <td>49000</td>\n",
              "      <td>100500</td>\n",
              "    </tr>\n",
              "    <tr>\n",
              "      <th>CapitalLoss</th>\n",
              "      <td>28836</td>\n",
              "      <td>NaN</td>\n",
              "      <td>NaN</td>\n",
              "      <td>NaN</td>\n",
              "      <td>-24940.6</td>\n",
              "      <td>27913.2</td>\n",
              "      <td>-111100</td>\n",
              "      <td>-50000</td>\n",
              "      <td>0</td>\n",
              "      <td>0</td>\n",
              "      <td>0</td>\n",
              "    </tr>\n",
              "    <tr>\n",
              "      <th>Country</th>\n",
              "      <td>28834</td>\n",
              "      <td>1</td>\n",
              "      <td>India</td>\n",
              "      <td>28834</td>\n",
              "      <td>NaN</td>\n",
              "      <td>NaN</td>\n",
              "      <td>NaN</td>\n",
              "      <td>NaN</td>\n",
              "      <td>NaN</td>\n",
              "      <td>NaN</td>\n",
              "      <td>NaN</td>\n",
              "    </tr>\n",
              "    <tr>\n",
              "      <th>InsurancePolicyNumber</th>\n",
              "      <td>28836</td>\n",
              "      <td>NaN</td>\n",
              "      <td>NaN</td>\n",
              "      <td>NaN</td>\n",
              "      <td>129313</td>\n",
              "      <td>11114.1</td>\n",
              "      <td>110122</td>\n",
              "      <td>119699</td>\n",
              "      <td>129278</td>\n",
              "      <td>138933</td>\n",
              "      <td>148619</td>\n",
              "    </tr>\n",
              "    <tr>\n",
              "      <th>CustomerLoyaltyPeriod</th>\n",
              "      <td>28836</td>\n",
              "      <td>NaN</td>\n",
              "      <td>NaN</td>\n",
              "      <td>NaN</td>\n",
              "      <td>203.068</td>\n",
              "      <td>99.933</td>\n",
              "      <td>1</td>\n",
              "      <td>126</td>\n",
              "      <td>199</td>\n",
              "      <td>267</td>\n",
              "      <td>479</td>\n",
              "    </tr>\n",
              "    <tr>\n",
              "      <th>DateOfPolicyCoverage</th>\n",
              "      <td>28836</td>\n",
              "      <td>6779</td>\n",
              "      <td>1998-11-11</td>\n",
              "      <td>38</td>\n",
              "      <td>NaN</td>\n",
              "      <td>NaN</td>\n",
              "      <td>NaN</td>\n",
              "      <td>NaN</td>\n",
              "      <td>NaN</td>\n",
              "      <td>NaN</td>\n",
              "      <td>NaN</td>\n",
              "    </tr>\n",
              "    <tr>\n",
              "      <th>InsurancePolicyState</th>\n",
              "      <td>28836</td>\n",
              "      <td>3</td>\n",
              "      <td>State3</td>\n",
              "      <td>10146</td>\n",
              "      <td>NaN</td>\n",
              "      <td>NaN</td>\n",
              "      <td>NaN</td>\n",
              "      <td>NaN</td>\n",
              "      <td>NaN</td>\n",
              "      <td>NaN</td>\n",
              "      <td>NaN</td>\n",
              "    </tr>\n",
              "    <tr>\n",
              "      <th>Policy_CombinedSingleLimit</th>\n",
              "      <td>28836</td>\n",
              "      <td>9</td>\n",
              "      <td>250/500</td>\n",
              "      <td>8260</td>\n",
              "      <td>NaN</td>\n",
              "      <td>NaN</td>\n",
              "      <td>NaN</td>\n",
              "      <td>NaN</td>\n",
              "      <td>NaN</td>\n",
              "      <td>NaN</td>\n",
              "      <td>NaN</td>\n",
              "    </tr>\n",
              "    <tr>\n",
              "      <th>Policy_Deductible</th>\n",
              "      <td>28836</td>\n",
              "      <td>NaN</td>\n",
              "      <td>NaN</td>\n",
              "      <td>NaN</td>\n",
              "      <td>1114.28</td>\n",
              "      <td>546.633</td>\n",
              "      <td>500</td>\n",
              "      <td>622</td>\n",
              "      <td>1000</td>\n",
              "      <td>1627</td>\n",
              "      <td>2000</td>\n",
              "    </tr>\n",
              "    <tr>\n",
              "      <th>PolicyAnnualPremium</th>\n",
              "      <td>28695</td>\n",
              "      <td>NaN</td>\n",
              "      <td>NaN</td>\n",
              "      <td>NaN</td>\n",
              "      <td>1261.7</td>\n",
              "      <td>205.385</td>\n",
              "      <td>436.28</td>\n",
              "      <td>1124.43</td>\n",
              "      <td>1266.44</td>\n",
              "      <td>1397.2</td>\n",
              "      <td>2047.59</td>\n",
              "    </tr>\n",
              "    <tr>\n",
              "      <th>UmbrellaLimit</th>\n",
              "      <td>28836</td>\n",
              "      <td>NaN</td>\n",
              "      <td>NaN</td>\n",
              "      <td>NaN</td>\n",
              "      <td>983668</td>\n",
              "      <td>1.96928e+06</td>\n",
              "      <td>-1e+06</td>\n",
              "      <td>0</td>\n",
              "      <td>0</td>\n",
              "      <td>485961</td>\n",
              "      <td>1e+07</td>\n",
              "    </tr>\n",
              "    <tr>\n",
              "      <th>InsuredRelationship</th>\n",
              "      <td>28836</td>\n",
              "      <td>6</td>\n",
              "      <td>own-child</td>\n",
              "      <td>5242</td>\n",
              "      <td>NaN</td>\n",
              "      <td>NaN</td>\n",
              "      <td>NaN</td>\n",
              "      <td>NaN</td>\n",
              "      <td>NaN</td>\n",
              "      <td>NaN</td>\n",
              "      <td>NaN</td>\n",
              "    </tr>\n",
              "    <tr>\n",
              "      <th>VehicleID</th>\n",
              "      <td>28836</td>\n",
              "      <td>28836</td>\n",
              "      <td>Vehicle34496</td>\n",
              "      <td>1</td>\n",
              "      <td>NaN</td>\n",
              "      <td>NaN</td>\n",
              "      <td>NaN</td>\n",
              "      <td>NaN</td>\n",
              "      <td>NaN</td>\n",
              "      <td>NaN</td>\n",
              "      <td>NaN</td>\n",
              "    </tr>\n",
              "    <tr>\n",
              "      <th>VehicleMake</th>\n",
              "      <td>28786</td>\n",
              "      <td>14</td>\n",
              "      <td>Saab</td>\n",
              "      <td>2415</td>\n",
              "      <td>NaN</td>\n",
              "      <td>NaN</td>\n",
              "      <td>NaN</td>\n",
              "      <td>NaN</td>\n",
              "      <td>NaN</td>\n",
              "      <td>NaN</td>\n",
              "      <td>NaN</td>\n",
              "    </tr>\n",
              "    <tr>\n",
              "      <th>VehicleModel</th>\n",
              "      <td>28836</td>\n",
              "      <td>39</td>\n",
              "      <td>RAM</td>\n",
              "      <td>1344</td>\n",
              "      <td>NaN</td>\n",
              "      <td>NaN</td>\n",
              "      <td>NaN</td>\n",
              "      <td>NaN</td>\n",
              "      <td>NaN</td>\n",
              "      <td>NaN</td>\n",
              "      <td>NaN</td>\n",
              "    </tr>\n",
              "    <tr>\n",
              "      <th>VehicleYOM</th>\n",
              "      <td>28836</td>\n",
              "      <td>21</td>\n",
              "      <td>2007</td>\n",
              "      <td>1730</td>\n",
              "      <td>NaN</td>\n",
              "      <td>NaN</td>\n",
              "      <td>NaN</td>\n",
              "      <td>NaN</td>\n",
              "      <td>NaN</td>\n",
              "      <td>NaN</td>\n",
              "      <td>NaN</td>\n",
              "    </tr>\n",
              "  </tbody>\n",
              "</table>\n",
              "</div>"
            ],
            "text/plain": [
              "                            count unique  ...      75%      max\n",
              "CustomerID                  28836  28836  ...      NaN      NaN\n",
              "DateOfIncident              28836     72  ...      NaN      NaN\n",
              "TypeOfIncident              28836      4  ...      NaN      NaN\n",
              "TypeOfCollission            28836      4  ...      NaN      NaN\n",
              "SeverityOfIncident          28836      4  ...      NaN      NaN\n",
              "AuthoritiesContacted        28836      5  ...      NaN      NaN\n",
              "IncidentState               28836      7  ...      NaN      NaN\n",
              "IncidentCity                28836      7  ...      NaN      NaN\n",
              "IncidentAddress             28836   1000  ...      NaN      NaN\n",
              "IncidentTime                28836    NaN  ...       17       23\n",
              "NumberOfVehicles            28836    NaN  ...        3        4\n",
              "PropertyDamage              28836      3  ...      NaN      NaN\n",
              "BodilyInjuries              28836    NaN  ...        2        2\n",
              "Witnesses                   28790    NaN  ...        2        3\n",
              "PoliceReport                28836      3  ...      NaN      NaN\n",
              "AmountOfTotalClaim          28786    NaN  ...  68982.8   114920\n",
              "AmountOfInjuryClaim         28836    NaN  ...  10571.2    21450\n",
              "AmountOfPropertyClaim       28836    NaN  ...    10327    23670\n",
              "AmountOfVehicleDamage       28836    NaN  ...  49535.8    79560\n",
              "InsuredAge                  28836    NaN  ...       44       64\n",
              "InsuredZipCode              28836    NaN  ...   603848   620962\n",
              "InsuredGender               28806      2  ...      NaN      NaN\n",
              "InsuredEducationLevel       28836      7  ...      NaN      NaN\n",
              "InsuredOccupation           28836     14  ...      NaN      NaN\n",
              "InsuredHobbies              28836     20  ...      NaN      NaN\n",
              "CapitalGains                28836    NaN  ...    49000   100500\n",
              "CapitalLoss                 28836    NaN  ...        0        0\n",
              "Country                     28834      1  ...      NaN      NaN\n",
              "InsurancePolicyNumber       28836    NaN  ...   138933   148619\n",
              "CustomerLoyaltyPeriod       28836    NaN  ...      267      479\n",
              "DateOfPolicyCoverage        28836   6779  ...      NaN      NaN\n",
              "InsurancePolicyState        28836      3  ...      NaN      NaN\n",
              "Policy_CombinedSingleLimit  28836      9  ...      NaN      NaN\n",
              "Policy_Deductible           28836    NaN  ...     1627     2000\n",
              "PolicyAnnualPremium         28695    NaN  ...   1397.2  2047.59\n",
              "UmbrellaLimit               28836    NaN  ...   485961    1e+07\n",
              "InsuredRelationship         28836      6  ...      NaN      NaN\n",
              "VehicleID                   28836  28836  ...      NaN      NaN\n",
              "VehicleMake                 28786     14  ...      NaN      NaN\n",
              "VehicleModel                28836     39  ...      NaN      NaN\n",
              "VehicleYOM                  28836     21  ...      NaN      NaN\n",
              "\n",
              "[41 rows x 11 columns]"
            ]
          },
          "metadata": {
            "tags": []
          },
          "execution_count": 173
        }
      ]
    },
    {
      "cell_type": "code",
      "metadata": {
        "colab": {
          "base_uri": "https://localhost:8080/"
        },
        "id": "8szGijy0OkXA",
        "outputId": "2d5e9cf8-5d0d-4a78-e1d1-119ade6ae794"
      },
      "source": [
        "x = merged_data.TypeOfCollission.value_counts()\n",
        "x = x.sort_values()\n",
        "x"
      ],
      "execution_count": null,
      "outputs": [
        {
          "output_type": "execute_result",
          "data": {
            "text/plain": [
              "?                  5162\n",
              "Front Collision    7246\n",
              "Side Collision     7867\n",
              "Rear Collision     8561\n",
              "Name: TypeOfCollission, dtype: int64"
            ]
          },
          "metadata": {
            "tags": []
          },
          "execution_count": 174
        }
      ]
    },
    {
      "cell_type": "markdown",
      "metadata": {
        "id": "CxOM4C-duTKJ"
      },
      "source": [
        "# **Exploratory Data Analysis**"
      ]
    },
    {
      "cell_type": "code",
      "metadata": {
        "colab": {
          "base_uri": "https://localhost:8080/",
          "height": 476
        },
        "id": "ZoWY007eR_Lg",
        "outputId": "bbe9c417-7bb1-4f71-9ef1-0fff39ec4a4d"
      },
      "source": [
        "# See the type of collision\n",
        "plt.style.use('classic')\n",
        "sns.barplot(x=x.index, y=x)\n",
        "plt.xlabel('Type of Collision')\n",
        "plt.ylabel('Number of Records')"
      ],
      "execution_count": null,
      "outputs": [
        {
          "output_type": "execute_result",
          "data": {
            "text/plain": [
              "Text(0, 0.5, 'Number of Records')"
            ]
          },
          "metadata": {
            "tags": []
          },
          "execution_count": 175
        },
        {
          "output_type": "display_data",
          "data": {
            "image/png": "[encoded data removed]",
            "text/plain": [
              "<Figure size 640x480 with 1 Axes>"
            ]
          },
          "metadata": {
            "tags": []
          }
        }
      ]
    },
    {
      "cell_type": "code",
      "metadata": {
        "colab": {
          "base_uri": "https://localhost:8080/"
        },
        "id": "yLvi-fxRIFAf",
        "outputId": "6ebca1d0-e6c8-4d93-f079-d5efaf259746"
      },
      "source": [
        "merged_data.NumberOfVehicles.value_counts()"
      ],
      "execution_count": null,
      "outputs": [
        {
          "output_type": "execute_result",
          "data": {
            "text/plain": [
              "1    16169\n",
              "3     9711\n",
              "2     2276\n",
              "4      680\n",
              "Name: NumberOfVehicles, dtype: int64"
            ]
          },
          "metadata": {
            "tags": []
          },
          "execution_count": 176
        }
      ]
    },
    {
      "cell_type": "code",
      "metadata": {
        "colab": {
          "base_uri": "https://localhost:8080/",
          "height": 487
        },
        "id": "WIkYiEMSHnij",
        "outputId": "4b32f814-c4f2-49fe-be3e-f59040188e76"
      },
      "source": [
        "# Checking number of vehicles involved in the type of collison\n",
        "plt.title(\"Number of vehicles involved in the type of collision\")\n",
        "plt.xlabel(\"Type of collision\")\n",
        "sns.countplot(x=\"TypeOfCollission\", hue=\"NumberOfVehicles\", data=merged_data)"
      ],
      "execution_count": null,
      "outputs": [
        {
          "output_type": "execute_result",
          "data": {
            "text/plain": [
              "<matplotlib.axes._subplots.AxesSubplot at 0x7f6d16b8d190>"
            ]
          },
          "metadata": {
            "tags": []
          },
          "execution_count": 177
        },
        {
          "output_type": "display_data",
          "data": {
            "image/png": "[encoded data removed]",
            "text/plain": [
              "<Figure size 640x480 with 1 Axes>"
            ]
          },
          "metadata": {
            "tags": []
          }
        }
      ]
    },
    {
      "cell_type": "markdown",
      "metadata": {
        "id": "16hSuBvjKRg4"
      },
      "source": [
        "**Observation**:\n",
        "  For all the records where type of collision information is not available, the number of vehicles involved in the incident is only one."
      ]
    },
    {
      "cell_type": "code",
      "metadata": {
        "colab": {
          "base_uri": "https://localhost:8080/"
        },
        "id": "aejpKf3XLeuP",
        "outputId": "5c91d74c-ccf1-4b28-a14f-c6d79a2f3c41"
      },
      "source": [
        "merged_data.AuthoritiesContacted.value_counts(sort=True)"
      ],
      "execution_count": null,
      "outputs": [
        {
          "output_type": "execute_result",
          "data": {
            "text/plain": [
              "Police       8324\n",
              "Fire         6518\n",
              "Ambulance    5732\n",
              "Other        5570\n",
              "None         2692\n",
              "Name: AuthoritiesContacted, dtype: int64"
            ]
          },
          "metadata": {
            "tags": []
          },
          "execution_count": 178
        }
      ]
    },
    {
      "cell_type": "code",
      "metadata": {
        "colab": {
          "base_uri": "https://localhost:8080/",
          "height": 487
        },
        "id": "NzFg5p69JOhI",
        "outputId": "a880248b-4ab3-40e9-9c95-4bd79e2c572a"
      },
      "source": [
        "# See whether the authorities had been contacted or not after the incident\n",
        "plt.title(\"Type of Authority contacted\")\n",
        "sns.countplot(x=\"AuthoritiesContacted\", data=merged_data)"
      ],
      "execution_count": null,
      "outputs": [
        {
          "output_type": "execute_result",
          "data": {
            "text/plain": [
              "<matplotlib.axes._subplots.AxesSubplot at 0x7f6d16e38590>"
            ]
          },
          "metadata": {
            "tags": []
          },
          "execution_count": 179
        },
        {
          "output_type": "display_data",
          "data": {
            "image/png": "[encoded data removed]",
            "text/plain": [
              "<Figure size 640x480 with 1 Axes>"
            ]
          },
          "metadata": {
            "tags": []
          }
        }
      ]
    },
    {
      "cell_type": "markdown",
      "metadata": {
        "id": "qV-wq5wPMoBV"
      },
      "source": [
        "**Observation**:\n",
        "  For most of the records the authorities had been contacted. For few records the authorities had not been contacted. check for total amount of claim for these records.\n",
        "  "
      ]
    },
    {
      "cell_type": "code",
      "metadata": {
        "colab": {
          "base_uri": "https://localhost:8080/",
          "height": 450
        },
        "id": "2BrmnvlY7p7_",
        "outputId": "566b62ff-0f39-489b-d028-e5e67ad381bc"
      },
      "source": [
        "# Check for the type of authorities contacted versus Amount of Total Claim\n",
        "sns.catplot( x=\"AuthoritiesContacted\", y=\"AmountOfTotalClaim\", kind=\"bar\", data=merged_data)\n",
        "plt.title(\"Type of Authorities contacted VS amount Of Total Claim\")"
      ],
      "execution_count": null,
      "outputs": [
        {
          "output_type": "execute_result",
          "data": {
            "text/plain": [
              "Text(0.5, 1.0, 'Type of Authorities contacted VS amount Of Total Claim')"
            ]
          },
          "metadata": {
            "tags": []
          },
          "execution_count": 181
        },
        {
          "output_type": "display_data",
          "data": {
            "image/png": "[encoded data removed]",
            "text/plain": [
              "<Figure size 400x400 with 1 Axes>"
            ]
          },
          "metadata": {
            "tags": []
          }
        }
      ]
    },
    {
      "cell_type": "markdown",
      "metadata": {
        "id": "W0qfWfzFmo--"
      },
      "source": [
        "**Observation**: For those records where no authorities had been contacted the mean amount of total claim is less. These may be small injuries like dents etc.,"
      ]
    },
    {
      "cell_type": "code",
      "metadata": {
        "colab": {
          "base_uri": "https://localhost:8080/"
        },
        "id": "g1RyKYHaGT99",
        "outputId": "ef3265da-1f44-4ae0-a3c8-3e7494b8e83a"
      },
      "source": [
        "merged_data.PoliceReport.value_counts(sort=True)"
      ],
      "execution_count": null,
      "outputs": [
        {
          "output_type": "execute_result",
          "data": {
            "text/plain": [
              "NO     9898\n",
              "?      9805\n",
              "YES    9133\n",
              "Name: PoliceReport, dtype: int64"
            ]
          },
          "metadata": {
            "tags": []
          },
          "execution_count": 21
        }
      ]
    },
    {
      "cell_type": "code",
      "metadata": {
        "colab": {
          "base_uri": "https://localhost:8080/",
          "height": 487
        },
        "id": "Z4f3STW9Gkmr",
        "outputId": "844c4f60-7353-45a0-ca1e-35d81bb22242"
      },
      "source": [
        "# For how many records police report is missing\n",
        "sns.countplot(x='PoliceReport', data=merged_data)\n",
        "plt.xlabel('Whether reported present or not')\n",
        "plt.ylabel('Number of Records')\n",
        "plt.title('Police Report present or not')"
      ],
      "execution_count": null,
      "outputs": [
        {
          "output_type": "execute_result",
          "data": {
            "text/plain": [
              "Text(0.5, 1.0, 'Police Report present or not')"
            ]
          },
          "metadata": {
            "tags": []
          },
          "execution_count": 182
        },
        {
          "output_type": "display_data",
          "data": {
            "image/png": "[encoded data removed]",
            "text/plain": [
              "<Figure size 640x480 with 1 Axes>"
            ]
          },
          "metadata": {
            "tags": []
          }
        }
      ]
    },
    {
      "cell_type": "markdown",
      "metadata": {
        "id": "vTkWyX6moBOZ"
      },
      "source": [
        "**observation**:\n",
        "  There are several records where police report seems missing and information not available. These records need to be investigated."
      ]
    },
    {
      "cell_type": "code",
      "metadata": {
        "colab": {
          "base_uri": "https://localhost:8080/",
          "height": 439
        },
        "id": "2PKyBwHnnL5z",
        "outputId": "f2eecd16-7ce8-448d-8ecd-b41e7f154133"
      },
      "source": [
        "# See the sum of amount claimed for the records where police report seems missing\n",
        "sns.catplot(x=\"PoliceReport\", y=\"AmountOfTotalClaim\", kind=\"bar\", data=merged_data)"
      ],
      "execution_count": null,
      "outputs": [
        {
          "output_type": "execute_result",
          "data": {
            "text/plain": [
              "<seaborn.axisgrid.FacetGrid at 0x7f52fcf4cd50>"
            ]
          },
          "metadata": {
            "tags": []
          },
          "execution_count": 24
        },
        {
          "output_type": "display_data",
          "data": {
            "image/png": "[encoded data removed]",
            "text/plain": [
              "<Figure size 400x400 with 1 Axes>"
            ]
          },
          "metadata": {
            "tags": []
          }
        }
      ]
    },
    {
      "cell_type": "markdown",
      "metadata": {
        "id": "tHmaskZmoZ58"
      },
      "source": [
        "**Observation**:\n",
        "  Significant amount had been claimed for the records where police reports are not available and for the missing values. These records need to be investigated further. Check for severity of Incident for these records."
      ]
    },
    {
      "cell_type": "code",
      "metadata": {
        "colab": {
          "base_uri": "https://localhost:8080/",
          "height": 417
        },
        "id": "Lq4hlDMHOIk7",
        "outputId": "fe21d16f-0f01-4f41-ad42-9eb5ec613a00"
      },
      "source": [
        "# Pie chart\n",
        "fig = plt.figure(figsize=(10,6))\n",
        "ax = (merged_data['SeverityOfIncident'].value_counts()*100.0 /len(df))\\\n",
        ".plot.pie(autopct='%.1f%%', labels = ['Major Damage', 'Total Loss', 'Minor Damage', 'Trivial Damage'],\n",
        "         fontsize=12)"
      ],
      "execution_count": null,
      "outputs": [
        {
          "output_type": "display_data",
          "data": {
            "image/png": "[encoded data removed]",
            "text/plain": [
              "<Figure size 800x480 with 1 Axes>"
            ]
          },
          "metadata": {
            "tags": []
          }
        }
      ]
    },
    {
      "cell_type": "code",
      "metadata": {
        "id": "ogBKarPpvjHx"
      },
      "source": [
        "fig = plt.figure(figsize=(10,6))\n",
        "ax = (merged_data['SeverityOfIncident'].value_counts()*100.0 /len(df))\\\n",
        ".plot.pie(autopct='%.1f%%', labels = ['Major Damage', 'Total Loss', 'Minor Damage', 'Trivial Damage'],\n",
        "         fontsize=12)"
      ],
      "execution_count": null,
      "outputs": []
    },
    {
      "cell_type": "markdown",
      "metadata": {
        "id": "lgd_Nnc_OkMz"
      },
      "source": [
        "**Observation**:\n",
        "  About more than 60 percent of the incidents involves either major loss or Total loss."
      ]
    },
    {
      "cell_type": "code",
      "metadata": {
        "colab": {
          "base_uri": "https://localhost:8080/"
        },
        "id": "LeeIGF7DoXIm",
        "outputId": "14c9153f-e7ee-4aa6-fe3c-9a545ad70d0c"
      },
      "source": [
        "merged_data.SeverityOfIncident.value_counts()"
      ],
      "execution_count": null,
      "outputs": [
        {
          "output_type": "execute_result",
          "data": {
            "text/plain": [
              "Minor Damage      10400\n",
              "Total Loss         8218\n",
              "Major Damage       7671\n",
              "Trivial Damage     2547\n",
              "Name: SeverityOfIncident, dtype: int64"
            ]
          },
          "metadata": {
            "tags": []
          },
          "execution_count": 28
        }
      ]
    },
    {
      "cell_type": "code",
      "metadata": {
        "colab": {
          "base_uri": "https://localhost:8080/",
          "height": 517
        },
        "id": "0Mc5OWLXnIDk",
        "outputId": "9e4e9d8a-8f31-402b-b90b-6ae0feb7e944"
      },
      "source": [
        "# Severity of Incident VS Amount of Total Claim\n",
        "ax = sns.catplot(x=\"SeverityOfIncident\", y=\"AmountOfTotalClaim\", hue=\"PoliceReport\", kind=\"bar\", orient=\"v\", data=merged_data)\n",
        "ax.set_xticklabels(rotation=45)\n",
        "plt.title('Severity of Incident VS Amount of Total Claim')"
      ],
      "execution_count": null,
      "outputs": [
        {
          "output_type": "execute_result",
          "data": {
            "text/plain": [
              "Text(0.5, 1.0, 'Severity of Incident VS Amount of Total Claim')"
            ]
          },
          "metadata": {
            "tags": []
          },
          "execution_count": 36
        },
        {
          "output_type": "display_data",
          "data": {
            "image/png": "[encoded data removed]",
            "text/plain": [
              "<Figure size 496.175x400 with 1 Axes>"
            ]
          },
          "metadata": {
            "tags": []
          }
        }
      ]
    },
    {
      "cell_type": "code",
      "metadata": {
        "colab": {
          "base_uri": "https://localhost:8080/",
          "height": 506
        },
        "id": "VOlrPq3esadP",
        "outputId": "a7628b63-9eca-4ee9-ba7e-38e5ac7880b5"
      },
      "source": [
        "# Number of vehicles invoved in the type of incident\n",
        "p = sns.catplot(x=\"SeverityOfIncident\", y=\"AmountOfTotalClaim\", hue=\"NumberOfVehicles\", kind=\"bar\", orient=\"v\", data=merged_data)\n",
        "p.set_xticklabels(rotation=45)"
      ],
      "execution_count": null,
      "outputs": [
        {
          "output_type": "execute_result",
          "data": {
            "text/plain": [
              "<seaborn.axisgrid.FacetGrid at 0x7f52df2336d0>"
            ]
          },
          "metadata": {
            "tags": []
          },
          "execution_count": 68
        },
        {
          "output_type": "display_data",
          "data": {
            "image/png": "[encoded data removed]",
            "text/plain": [
              "<Figure size 537.05x400 with 1 Axes>"
            ]
          },
          "metadata": {
            "tags": []
          }
        }
      ]
    },
    {
      "cell_type": "markdown",
      "metadata": {
        "id": "ND7Q84-UuN_5"
      },
      "source": [
        "**Observation**:\n",
        "   Huge sum of amount had been claimed for the records where there is a major damage and total loss but police reports had been missed. These records need to be observed. See whether there are witness for these records.\n",
        "  \n"
      ]
    },
    {
      "cell_type": "code",
      "metadata": {
        "colab": {
          "base_uri": "https://localhost:8080/",
          "height": 439
        },
        "id": "z1h_ASC0DAlf",
        "outputId": "c82f4d4d-e7c9-41c1-b577-1aac205f8ebd"
      },
      "source": [
        "# Witnesses present or not\n",
        "sns.catplot(x='Witnesses', y='AmountOfTotalClaim', hue='PoliceReport', data=merged_data)"
      ],
      "execution_count": null,
      "outputs": [
        {
          "output_type": "execute_result",
          "data": {
            "text/plain": [
              "<seaborn.axisgrid.FacetGrid at 0x7f6d18154a90>"
            ]
          },
          "metadata": {
            "tags": []
          },
          "execution_count": 56
        },
        {
          "output_type": "display_data",
          "data": {
            "image/png": "[encoded data removed]",
            "text/plain": [
              "<Figure size 496.175x400 with 1 Axes>"
            ]
          },
          "metadata": {
            "tags": []
          }
        }
      ]
    },
    {
      "cell_type": "code",
      "metadata": {
        "colab": {
          "base_uri": "https://localhost:8080/",
          "height": 235
        },
        "id": "zY5okXGKwrJ1",
        "outputId": "17f2fd2e-622e-47f4-ae5a-674d73857bc0"
      },
      "source": [
        "no_report1 = merged_data[merged_data.PoliceReport==\"NO\"]\n",
        "Total_loss = no_report1[no_report.SeverityOfIncident== \"Total Loss\"]\n",
        "num_witness1= Total_loss.groupby(['CustomerID','PoliceReport','SeverityOfIncident','AmountOfTotalClaim']).agg({'Witnesses':'sum'})\n",
        "num_witness1.head()"
      ],
      "execution_count": null,
      "outputs": [
        {
          "output_type": "execute_result",
          "data": {
            "text/html": [
              "<div>\n",
              "<style scoped>\n",
              "    .dataframe tbody tr th:only-of-type {\n",
              "        vertical-align: middle;\n",
              "    }\n",
              "\n",
              "    .dataframe tbody tr th {\n",
              "        vertical-align: top;\n",
              "    }\n",
              "\n",
              "    .dataframe thead th {\n",
              "        text-align: right;\n",
              "    }\n",
              "</style>\n",
              "<table border=\"1\" class=\"dataframe\">\n",
              "  <thead>\n",
              "    <tr style=\"text-align: right;\">\n",
              "      <th></th>\n",
              "      <th></th>\n",
              "      <th></th>\n",
              "      <th></th>\n",
              "      <th>Witnesses</th>\n",
              "    </tr>\n",
              "    <tr>\n",
              "      <th>CustomerID</th>\n",
              "      <th>PoliceReport</th>\n",
              "      <th>SeverityOfIncident</th>\n",
              "      <th>AmountOfTotalClaim</th>\n",
              "      <th></th>\n",
              "    </tr>\n",
              "  </thead>\n",
              "  <tbody>\n",
              "    <tr>\n",
              "      <th>Cust10024</th>\n",
              "      <th>NO</th>\n",
              "      <th>Total Loss</th>\n",
              "      <th>80425.0</th>\n",
              "      <td>0.0</td>\n",
              "    </tr>\n",
              "    <tr>\n",
              "      <th>Cust10061</th>\n",
              "      <th>NO</th>\n",
              "      <th>Total Loss</th>\n",
              "      <th>53298.0</th>\n",
              "      <td>0.0</td>\n",
              "    </tr>\n",
              "    <tr>\n",
              "      <th>Cust10081</th>\n",
              "      <th>NO</th>\n",
              "      <th>Total Loss</th>\n",
              "      <th>82240.0</th>\n",
              "      <td>2.0</td>\n",
              "    </tr>\n",
              "    <tr>\n",
              "      <th>Cust10082</th>\n",
              "      <th>NO</th>\n",
              "      <th>Total Loss</th>\n",
              "      <th>75142.0</th>\n",
              "      <td>3.0</td>\n",
              "    </tr>\n",
              "    <tr>\n",
              "      <th>Cust10083</th>\n",
              "      <th>NO</th>\n",
              "      <th>Total Loss</th>\n",
              "      <th>77942.0</th>\n",
              "      <td>3.0</td>\n",
              "    </tr>\n",
              "  </tbody>\n",
              "</table>\n",
              "</div>"
            ],
            "text/plain": [
              "                                                               Witnesses\n",
              "CustomerID PoliceReport SeverityOfIncident AmountOfTotalClaim           \n",
              "Cust10024  NO           Total Loss         80425.0                   0.0\n",
              "Cust10061  NO           Total Loss         53298.0                   0.0\n",
              "Cust10081  NO           Total Loss         82240.0                   2.0\n",
              "Cust10082  NO           Total Loss         75142.0                   3.0\n",
              "Cust10083  NO           Total Loss         77942.0                   3.0"
            ]
          },
          "metadata": {
            "tags": []
          },
          "execution_count": 41
        }
      ]
    },
    {
      "cell_type": "code",
      "metadata": {
        "colab": {
          "base_uri": "https://localhost:8080/"
        },
        "id": "z3I5gNrtT-HT",
        "outputId": "b8b231a8-cb58-4fb8-9026-188ec931968f"
      },
      "source": [
        "merged_data.PropertyDamage.value_counts()\n"
      ],
      "execution_count": null,
      "outputs": [
        {
          "output_type": "execute_result",
          "data": {
            "text/plain": [
              "?      10459\n",
              "NO      9687\n",
              "YES     8690\n",
              "Name: PropertyDamage, dtype: int64"
            ]
          },
          "metadata": {
            "tags": []
          },
          "execution_count": 30
        }
      ]
    },
    {
      "cell_type": "code",
      "metadata": {
        "colab": {
          "base_uri": "https://localhost:8080/",
          "height": 417
        },
        "id": "v_Gxa8SeRC0B",
        "outputId": "025bdc3f-4d96-4099-f623-73499a09844c"
      },
      "source": [
        "# Since property damage also have significant number of missing values. let's study them seperately\n",
        "fig = plt.figure(figsize=(10,6))\n",
        "ax = (merged_data['PropertyDamage'].value_counts()*100.0 /len(df))\\\n",
        ".plot.pie(autopct='%.1f%%', labels = ['YES', 'NO', '?'],\n",
        "         fontsize=12)"
      ],
      "execution_count": null,
      "outputs": [
        {
          "output_type": "display_data",
          "data": {
            "image/png": "[encoded data removed]",
            "text/plain": [
              "<Figure size 800x480 with 1 Axes>"
            ]
          },
          "metadata": {
            "tags": []
          }
        }
      ]
    },
    {
      "cell_type": "markdown",
      "metadata": {
        "id": "vuRX0TqrY3Ke"
      },
      "source": [
        "**Observation**:\n",
        "  There are significant number of records where property had not been damaged and where the values are missing for the records. so check if the amount for property damage had been claimed or not."
      ]
    },
    {
      "cell_type": "code",
      "metadata": {
        "colab": {
          "base_uri": "https://localhost:8080/",
          "height": 487
        },
        "id": "E5aSAQz9owyg",
        "outputId": "05cf2cfb-b43d-4caa-e365-b726820b1c25"
      },
      "source": [
        "# See whether amount had been claimed for property damage in case of no damage\n",
        "sns.barplot(x=\"PropertyDamage\", y=\"AmountOfPropertyClaim\",palette='plasma', data=merged_data)\n",
        "plt.title('Property Damage VS Amount Of Property Claim')"
      ],
      "execution_count": null,
      "outputs": [
        {
          "output_type": "execute_result",
          "data": {
            "text/plain": [
              "Text(0.5, 1.0, 'Property Damage VS Amount Of Property Claim')"
            ]
          },
          "metadata": {
            "tags": []
          },
          "execution_count": 43
        },
        {
          "output_type": "display_data",
          "data": {
            "image/png": "[encoded data removed]",
            "text/plain": [
              "<Figure size 640x480 with 1 Axes>"
            ]
          },
          "metadata": {
            "tags": []
          }
        }
      ]
    },
    {
      "cell_type": "markdown",
      "metadata": {
        "id": "2QI4CJZwpP0f"
      },
      "source": [
        "**Observation**:\n",
        "  For the records where there is no property damage, amount had been claimed for property damage. These records need to be checked  on what basis they had claimed the amount\n",
        "  "
      ]
    },
    {
      "cell_type": "code",
      "metadata": {
        "colab": {
          "base_uri": "https://localhost:8080/",
          "height": 204
        },
        "id": "Vbm-BnU8exiB",
        "outputId": "4ab0c3e2-6944-4d20-ada8-5d02876621d3"
      },
      "source": [
        "amount_claim = merged_data.groupby(['CustomerID','PropertyDamage',],as_index=False).agg({'AmountOfPropertyClaim':'sum'})\n",
        "amount_claim.head()"
      ],
      "execution_count": null,
      "outputs": [
        {
          "output_type": "execute_result",
          "data": {
            "text/html": [
              "<div>\n",
              "<style scoped>\n",
              "    .dataframe tbody tr th:only-of-type {\n",
              "        vertical-align: middle;\n",
              "    }\n",
              "\n",
              "    .dataframe tbody tr th {\n",
              "        vertical-align: top;\n",
              "    }\n",
              "\n",
              "    .dataframe thead th {\n",
              "        text-align: right;\n",
              "    }\n",
              "</style>\n",
              "<table border=\"1\" class=\"dataframe\">\n",
              "  <thead>\n",
              "    <tr style=\"text-align: right;\">\n",
              "      <th></th>\n",
              "      <th>CustomerID</th>\n",
              "      <th>PropertyDamage</th>\n",
              "      <th>AmountOfPropertyClaim</th>\n",
              "    </tr>\n",
              "  </thead>\n",
              "  <tbody>\n",
              "    <tr>\n",
              "      <th>0</th>\n",
              "      <td>Cust10000</td>\n",
              "      <td>?</td>\n",
              "      <td>6071</td>\n",
              "    </tr>\n",
              "    <tr>\n",
              "      <th>1</th>\n",
              "      <td>Cust10001</td>\n",
              "      <td>YES</td>\n",
              "      <td>5919</td>\n",
              "    </tr>\n",
              "    <tr>\n",
              "      <th>2</th>\n",
              "      <td>Cust10002</td>\n",
              "      <td>YES</td>\n",
              "      <td>11630</td>\n",
              "    </tr>\n",
              "    <tr>\n",
              "      <th>3</th>\n",
              "      <td>Cust10003</td>\n",
              "      <td>YES</td>\n",
              "      <td>12003</td>\n",
              "    </tr>\n",
              "    <tr>\n",
              "      <th>4</th>\n",
              "      <td>Cust10004</td>\n",
              "      <td>NO</td>\n",
              "      <td>7234</td>\n",
              "    </tr>\n",
              "  </tbody>\n",
              "</table>\n",
              "</div>"
            ],
            "text/plain": [
              "  CustomerID PropertyDamage  AmountOfPropertyClaim\n",
              "0  Cust10000              ?                   6071\n",
              "1  Cust10001            YES                   5919\n",
              "2  Cust10002            YES                  11630\n",
              "3  Cust10003            YES                  12003\n",
              "4  Cust10004             NO                   7234"
            ]
          },
          "metadata": {
            "tags": []
          },
          "execution_count": 91
        }
      ]
    },
    {
      "cell_type": "code",
      "metadata": {
        "colab": {
          "base_uri": "https://localhost:8080/"
        },
        "id": "75uBnACowKhG",
        "outputId": "2a3b0b7d-f4aa-4954-a1fa-4a86cddd1da9"
      },
      "source": [
        "# I want to subset records where there is no property damage and the amount claimed or not\n",
        "no_damage= amount_claim[amount_claim.PropertyDamage==\"NO\"].sort_values('AmountOfPropertyClaim')\n",
        "print(no_damage.head(3))\n",
        "print(\"--------------------------------------------------------\")\n",
        "print(no_damage.tail(3))"
      ],
      "execution_count": null,
      "outputs": [
        {
          "output_type": "stream",
          "text": [
            "      CustomerID PropertyDamage  AmountOfPropertyClaim\n",
            "14750  Cust27867             NO                      0\n",
            "5307    Cust1642             NO                      0\n",
            "16694  Cust30240             NO                      0\n",
            "--------------------------------------------------------\n",
            "      CustomerID PropertyDamage  AmountOfPropertyClaim\n",
            "25781   Cust5924             NO                  21369\n",
            "5209   Cust16307             NO                  22393\n",
            "4295   Cust15169             NO                  22806\n"
          ],
          "name": "stdout"
        }
      ]
    },
    {
      "cell_type": "code",
      "metadata": {
        "colab": {
          "base_uri": "https://localhost:8080/"
        },
        "id": "iRdMbEaYb4C4",
        "outputId": "72acb6a6-0488-48ac-d953-1b531fff91ee"
      },
      "source": [
        "merged_data.AmountOfPropertyClaim.nunique()"
      ],
      "execution_count": null,
      "outputs": [
        {
          "output_type": "execute_result",
          "data": {
            "text/plain": [
              "11785"
            ]
          },
          "metadata": {
            "tags": []
          },
          "execution_count": 82
        }
      ]
    },
    {
      "cell_type": "code",
      "metadata": {
        "colab": {
          "base_uri": "https://localhost:8080/"
        },
        "id": "6DteVtDTAHxd",
        "outputId": "9c84d9fb-c539-4e71-9f2a-92adf2e78ab6"
      },
      "source": [
        "merged_data.IncidentState.value_counts(normalize=True)*100"
      ],
      "execution_count": null,
      "outputs": [
        {
          "output_type": "execute_result",
          "data": {
            "text/plain": [
              "State5    27.347760\n",
              "State7    24.857817\n",
              "State9    21.365654\n",
              "State8    11.031350\n",
              "State4    10.504231\n",
              "State6     2.808989\n",
              "State3     2.084200\n",
              "Name: IncidentState, dtype: float64"
            ]
          },
          "metadata": {
            "tags": []
          },
          "execution_count": 44
        }
      ]
    },
    {
      "cell_type": "code",
      "metadata": {
        "colab": {
          "base_uri": "https://localhost:8080/",
          "height": 412
        },
        "id": "5-USIoAe8DTt",
        "outputId": "db917098-c1c7-4020-c93a-91f0f2d42d44"
      },
      "source": [
        "# See the states where incidents are occuring more\n",
        "sns.countplot(x='IncidentState', data=merged_data)\n",
        "plt.title(\"Incident state VS Number of Records\")"
      ],
      "execution_count": null,
      "outputs": [
        {
          "output_type": "execute_result",
          "data": {
            "text/plain": [
              "<matplotlib.axes._subplots.AxesSubplot at 0x7f52fced0390>"
            ]
          },
          "metadata": {
            "tags": []
          },
          "execution_count": 34
        },
        {
          "output_type": "display_data",
          "data": {
            "image/png": "[encoded data removed]",
            "text/plain": [
              "<Figure size 1200x400 with 1 Axes>"
            ]
          },
          "metadata": {
            "tags": []
          }
        }
      ]
    },
    {
      "cell_type": "markdown",
      "metadata": {
        "id": "vr5I7wuXAkBU"
      },
      "source": [
        "**Observation**:\n",
        "  states 5,7,9 are the top 3 locations where more incidents took place."
      ]
    },
    {
      "cell_type": "code",
      "metadata": {
        "colab": {
          "base_uri": "https://localhost:8080/"
        },
        "id": "gDsPJrGOA6q9",
        "outputId": "a61fd3f6-0a8b-4a72-cda5-9665cc4cefe7"
      },
      "source": [
        "merged_data.IncidentCity.value_counts()"
      ],
      "execution_count": null,
      "outputs": [
        {
          "output_type": "execute_result",
          "data": {
            "text/plain": [
              "City2    4486\n",
              "City1    4374\n",
              "City4    4311\n",
              "City7    4216\n",
              "City3    4073\n",
              "City5    3698\n",
              "City6    3678\n",
              "Name: IncidentCity, dtype: int64"
            ]
          },
          "metadata": {
            "tags": []
          },
          "execution_count": 150
        }
      ]
    },
    {
      "cell_type": "code",
      "metadata": {
        "colab": {
          "base_uri": "https://localhost:8080/",
          "height": 487
        },
        "id": "Lo9BY5mrBJ1p",
        "outputId": "0312da84-76e5-415b-ece9-075dc89a50cd"
      },
      "source": [
        " # What are the top cities of the state where incidents taking place\n",
        " sns.countplot(y=\"IncidentState\", hue=\"IncidentCity\", data=merged_data)\n",
        " plt.title('Cities where incidents took place')"
      ],
      "execution_count": null,
      "outputs": [
        {
          "output_type": "execute_result",
          "data": {
            "text/plain": [
              "Text(0.5, 1.0, 'Cities where incidents took place')"
            ]
          },
          "metadata": {
            "tags": []
          },
          "execution_count": 45
        },
        {
          "output_type": "display_data",
          "data": {
            "image/png": "[encoded data removed]",
            "text/plain": [
              "<Figure size 640x480 with 1 Axes>"
            ]
          },
          "metadata": {
            "tags": []
          }
        }
      ]
    },
    {
      "cell_type": "code",
      "metadata": {
        "id": "-GiXF6WfB9jS",
        "colab": {
          "base_uri": "https://localhost:8080/",
          "height": 640
        },
        "outputId": "59411687-d069-440a-8757-b7d02d72c313"
      },
      "source": [
        "# Date of Incidents in the data belonging to\n",
        "fig = plt.figure(figsize=(20,8))\n",
        "ax = merged_data.groupby('DateOfIncident').AmountOfTotalClaim.count().plot.bar(ylim=0)\n",
        "ax.set_ylabel('Number of claims')\n"
      ],
      "execution_count": null,
      "outputs": [
        {
          "output_type": "execute_result",
          "data": {
            "text/plain": [
              "Text(0, 0.5, 'Number of claims')"
            ]
          },
          "metadata": {
            "tags": []
          },
          "execution_count": 36
        },
        {
          "output_type": "display_data",
          "data": {
            "image/png": "[encoded data removed]",
            "text/plain": [
              "<Figure size 1600x640 with 1 Axes>"
            ]
          },
          "metadata": {
            "tags": []
          }
        }
      ]
    },
    {
      "cell_type": "code",
      "metadata": {
        "colab": {
          "base_uri": "https://localhost:8080/"
        },
        "id": "ZmPifB1dSqb2",
        "outputId": "d2bdd1be-ca3f-4569-9618-c697ecfd3a2b"
      },
      "source": [
        "merged_data.IncidentTime.value_counts(sort=True)"
      ],
      "execution_count": null,
      "outputs": [
        {
          "output_type": "execute_result",
          "data": {
            "text/plain": [
              " 16    1616\n",
              " 17    1615\n",
              " 6     1564\n",
              " 15    1541\n",
              " 14    1461\n",
              " 5     1434\n",
              " 13    1420\n",
              " 18    1419\n",
              " 4     1406\n",
              " 12    1363\n",
              " 7     1331\n",
              " 11    1286\n",
              " 19    1280\n",
              " 8     1251\n",
              " 3     1232\n",
              " 9     1210\n",
              " 10    1165\n",
              " 20    1153\n",
              " 21     971\n",
              " 22     809\n",
              " 2      713\n",
              " 1      648\n",
              " 23     526\n",
              " 0      391\n",
              "-5       31\n",
              "Name: IncidentTime, dtype: int64"
            ]
          },
          "metadata": {
            "tags": []
          },
          "execution_count": 41
        }
      ]
    },
    {
      "cell_type": "code",
      "metadata": {
        "id": "-hieowXhQ4op"
      },
      "source": [
        "# Converting Hour of the day to Period of the day\n",
        "bins = [ -5, 0, 3, 6, 9, 12, 17, 20, 24]\n",
        "names = [\"Not_known\", \"past_midnight\", \"early_morning\", \"morning\", \"fore-noon\", \"afternoon\", \"evening\", \"night\"]\n",
        "merged_data['IncidentPeriod']= pd.cut(merged_data['IncidentTime'], bins=bins, labels=names)"
      ],
      "execution_count": null,
      "outputs": []
    },
    {
      "cell_type": "code",
      "metadata": {
        "colab": {
          "base_uri": "https://localhost:8080/",
          "height": 309
        },
        "id": "LgXbfNgHVKEt",
        "outputId": "548e95a8-fc3c-4afa-9956-2a71d12b39d5"
      },
      "source": [
        "merged_data.head()"
      ],
      "execution_count": null,
      "outputs": [
        {
          "output_type": "execute_result",
          "data": {
            "text/html": [
              "<div>\n",
              "<style scoped>\n",
              "    .dataframe tbody tr th:only-of-type {\n",
              "        vertical-align: middle;\n",
              "    }\n",
              "\n",
              "    .dataframe tbody tr th {\n",
              "        vertical-align: top;\n",
              "    }\n",
              "\n",
              "    .dataframe thead th {\n",
              "        text-align: right;\n",
              "    }\n",
              "</style>\n",
              "<table border=\"1\" class=\"dataframe\">\n",
              "  <thead>\n",
              "    <tr style=\"text-align: right;\">\n",
              "      <th></th>\n",
              "      <th>CustomerID</th>\n",
              "      <th>DateOfIncident</th>\n",
              "      <th>TypeOfIncident</th>\n",
              "      <th>TypeOfCollission</th>\n",
              "      <th>SeverityOfIncident</th>\n",
              "      <th>AuthoritiesContacted</th>\n",
              "      <th>IncidentState</th>\n",
              "      <th>IncidentCity</th>\n",
              "      <th>IncidentAddress</th>\n",
              "      <th>IncidentTime</th>\n",
              "      <th>NumberOfVehicles</th>\n",
              "      <th>PropertyDamage</th>\n",
              "      <th>BodilyInjuries</th>\n",
              "      <th>Witnesses</th>\n",
              "      <th>PoliceReport</th>\n",
              "      <th>AmountOfTotalClaim</th>\n",
              "      <th>AmountOfInjuryClaim</th>\n",
              "      <th>AmountOfPropertyClaim</th>\n",
              "      <th>AmountOfVehicleDamage</th>\n",
              "      <th>InsuredAge</th>\n",
              "      <th>InsuredZipCode</th>\n",
              "      <th>InsuredGender</th>\n",
              "      <th>InsuredEducationLevel</th>\n",
              "      <th>InsuredOccupation</th>\n",
              "      <th>InsuredHobbies</th>\n",
              "      <th>CapitalGains</th>\n",
              "      <th>CapitalLoss</th>\n",
              "      <th>Country</th>\n",
              "      <th>InsurancePolicyNumber</th>\n",
              "      <th>CustomerLoyaltyPeriod</th>\n",
              "      <th>DateOfPolicyCoverage</th>\n",
              "      <th>InsurancePolicyState</th>\n",
              "      <th>Policy_CombinedSingleLimit</th>\n",
              "      <th>Policy_Deductible</th>\n",
              "      <th>PolicyAnnualPremium</th>\n",
              "      <th>UmbrellaLimit</th>\n",
              "      <th>InsuredRelationship</th>\n",
              "      <th>VehicleID</th>\n",
              "      <th>VehicleMake</th>\n",
              "      <th>VehicleModel</th>\n",
              "      <th>VehicleYOM</th>\n",
              "      <th>IncidentPeriod</th>\n",
              "    </tr>\n",
              "  </thead>\n",
              "  <tbody>\n",
              "    <tr>\n",
              "      <th>0</th>\n",
              "      <td>Cust20065</td>\n",
              "      <td>2015-01-09</td>\n",
              "      <td>Multi-vehicle Collision</td>\n",
              "      <td>Rear Collision</td>\n",
              "      <td>Total Loss</td>\n",
              "      <td>Other</td>\n",
              "      <td>State9</td>\n",
              "      <td>City4</td>\n",
              "      <td>Location 1404</td>\n",
              "      <td>19</td>\n",
              "      <td>3</td>\n",
              "      <td>?</td>\n",
              "      <td>1</td>\n",
              "      <td>1.0</td>\n",
              "      <td>?</td>\n",
              "      <td>43973.0</td>\n",
              "      <td>9396</td>\n",
              "      <td>4698</td>\n",
              "      <td>29879</td>\n",
              "      <td>58</td>\n",
              "      <td>471784</td>\n",
              "      <td>MALE</td>\n",
              "      <td>JD</td>\n",
              "      <td>sales</td>\n",
              "      <td>video-games</td>\n",
              "      <td>0</td>\n",
              "      <td>-42700</td>\n",
              "      <td>India</td>\n",
              "      <td>129186</td>\n",
              "      <td>432</td>\n",
              "      <td>1998-11-14</td>\n",
              "      <td>State2</td>\n",
              "      <td>250/500</td>\n",
              "      <td>2000</td>\n",
              "      <td>1142.87</td>\n",
              "      <td>0</td>\n",
              "      <td>own-child</td>\n",
              "      <td>Vehicle30662</td>\n",
              "      <td>Mercedes</td>\n",
              "      <td>E400</td>\n",
              "      <td>2005</td>\n",
              "      <td>evening</td>\n",
              "    </tr>\n",
              "    <tr>\n",
              "      <th>1</th>\n",
              "      <td>Cust37589</td>\n",
              "      <td>2015-02-20</td>\n",
              "      <td>Single Vehicle Collision</td>\n",
              "      <td>Side Collision</td>\n",
              "      <td>Minor Damage</td>\n",
              "      <td>Ambulance</td>\n",
              "      <td>State4</td>\n",
              "      <td>City3</td>\n",
              "      <td>Location 1675</td>\n",
              "      <td>14</td>\n",
              "      <td>1</td>\n",
              "      <td>?</td>\n",
              "      <td>1</td>\n",
              "      <td>1.0</td>\n",
              "      <td>YES</td>\n",
              "      <td>62310.0</td>\n",
              "      <td>6539</td>\n",
              "      <td>6539</td>\n",
              "      <td>49232</td>\n",
              "      <td>34</td>\n",
              "      <td>431937</td>\n",
              "      <td>FEMALE</td>\n",
              "      <td>High School</td>\n",
              "      <td>transport-moving</td>\n",
              "      <td>polo</td>\n",
              "      <td>51300</td>\n",
              "      <td>0</td>\n",
              "      <td>India</td>\n",
              "      <td>146710</td>\n",
              "      <td>128</td>\n",
              "      <td>2000-08-19</td>\n",
              "      <td>State2</td>\n",
              "      <td>100/300</td>\n",
              "      <td>1000</td>\n",
              "      <td>1274.38</td>\n",
              "      <td>2857344</td>\n",
              "      <td>own-child</td>\n",
              "      <td>Vehicle17183</td>\n",
              "      <td>Toyota</td>\n",
              "      <td>Highlander</td>\n",
              "      <td>2010</td>\n",
              "      <td>afternoon</td>\n",
              "    </tr>\n",
              "    <tr>\n",
              "      <th>2</th>\n",
              "      <td>Cust24312</td>\n",
              "      <td>2015-01-14</td>\n",
              "      <td>Multi-vehicle Collision</td>\n",
              "      <td>Side Collision</td>\n",
              "      <td>Major Damage</td>\n",
              "      <td>Ambulance</td>\n",
              "      <td>State5</td>\n",
              "      <td>City2</td>\n",
              "      <td>Location 1546</td>\n",
              "      <td>21</td>\n",
              "      <td>3</td>\n",
              "      <td>?</td>\n",
              "      <td>0</td>\n",
              "      <td>0.0</td>\n",
              "      <td>?</td>\n",
              "      <td>42824.0</td>\n",
              "      <td>6069</td>\n",
              "      <td>6069</td>\n",
              "      <td>30686</td>\n",
              "      <td>52</td>\n",
              "      <td>479320</td>\n",
              "      <td>FEMALE</td>\n",
              "      <td>PhD</td>\n",
              "      <td>machine-op-inspct</td>\n",
              "      <td>exercise</td>\n",
              "      <td>0</td>\n",
              "      <td>0</td>\n",
              "      <td>India</td>\n",
              "      <td>133433</td>\n",
              "      <td>346</td>\n",
              "      <td>2000-06-23</td>\n",
              "      <td>State1</td>\n",
              "      <td>500/1000</td>\n",
              "      <td>745</td>\n",
              "      <td>1269.93</td>\n",
              "      <td>0</td>\n",
              "      <td>other-relative</td>\n",
              "      <td>Vehicle33982</td>\n",
              "      <td>Volkswagen</td>\n",
              "      <td>Passat</td>\n",
              "      <td>2002</td>\n",
              "      <td>night</td>\n",
              "    </tr>\n",
              "    <tr>\n",
              "      <th>3</th>\n",
              "      <td>Cust5493</td>\n",
              "      <td>2015-01-07</td>\n",
              "      <td>Multi-vehicle Collision</td>\n",
              "      <td>Side Collision</td>\n",
              "      <td>Major Damage</td>\n",
              "      <td>Ambulance</td>\n",
              "      <td>State7</td>\n",
              "      <td>City4</td>\n",
              "      <td>Location 1413</td>\n",
              "      <td>12</td>\n",
              "      <td>3</td>\n",
              "      <td>YES</td>\n",
              "      <td>2</td>\n",
              "      <td>0.0</td>\n",
              "      <td>?</td>\n",
              "      <td>45672.0</td>\n",
              "      <td>253</td>\n",
              "      <td>5741</td>\n",
              "      <td>39678</td>\n",
              "      <td>25</td>\n",
              "      <td>607763</td>\n",
              "      <td>FEMALE</td>\n",
              "      <td>College</td>\n",
              "      <td>exec-managerial</td>\n",
              "      <td>exercise</td>\n",
              "      <td>47400</td>\n",
              "      <td>-56100</td>\n",
              "      <td>India</td>\n",
              "      <td>114614</td>\n",
              "      <td>42</td>\n",
              "      <td>1992-01-15</td>\n",
              "      <td>State2</td>\n",
              "      <td>100/300</td>\n",
              "      <td>986</td>\n",
              "      <td>1218.60</td>\n",
              "      <td>0</td>\n",
              "      <td>other-relative</td>\n",
              "      <td>Vehicle12299</td>\n",
              "      <td>Toyota</td>\n",
              "      <td>Highlander</td>\n",
              "      <td>2011</td>\n",
              "      <td>fore-noon</td>\n",
              "    </tr>\n",
              "    <tr>\n",
              "      <th>4</th>\n",
              "      <td>Cust7704</td>\n",
              "      <td>2015-02-26</td>\n",
              "      <td>Multi-vehicle Collision</td>\n",
              "      <td>Side Collision</td>\n",
              "      <td>Major Damage</td>\n",
              "      <td>Other</td>\n",
              "      <td>State4</td>\n",
              "      <td>City6</td>\n",
              "      <td>Location 1367</td>\n",
              "      <td>3</td>\n",
              "      <td>3</td>\n",
              "      <td>NO</td>\n",
              "      <td>1</td>\n",
              "      <td>2.0</td>\n",
              "      <td>NO</td>\n",
              "      <td>81472.0</td>\n",
              "      <td>7407</td>\n",
              "      <td>14813</td>\n",
              "      <td>59252</td>\n",
              "      <td>27</td>\n",
              "      <td>441783</td>\n",
              "      <td>MALE</td>\n",
              "      <td>Masters</td>\n",
              "      <td>sales</td>\n",
              "      <td>chess</td>\n",
              "      <td>0</td>\n",
              "      <td>0</td>\n",
              "      <td>India</td>\n",
              "      <td>116825</td>\n",
              "      <td>109</td>\n",
              "      <td>2001-09-23</td>\n",
              "      <td>State3</td>\n",
              "      <td>250/500</td>\n",
              "      <td>576</td>\n",
              "      <td>1431.02</td>\n",
              "      <td>4235779</td>\n",
              "      <td>unmarried</td>\n",
              "      <td>Vehicle30447</td>\n",
              "      <td>Ford</td>\n",
              "      <td>Wrangler</td>\n",
              "      <td>2010</td>\n",
              "      <td>past_midnight</td>\n",
              "    </tr>\n",
              "  </tbody>\n",
              "</table>\n",
              "</div>"
            ],
            "text/plain": [
              "  CustomerID DateOfIncident  ... VehicleYOM IncidentPeriod\n",
              "0  Cust20065     2015-01-09  ...       2005        evening\n",
              "1  Cust37589     2015-02-20  ...       2010      afternoon\n",
              "2  Cust24312     2015-01-14  ...       2002          night\n",
              "3   Cust5493     2015-01-07  ...       2011      fore-noon\n",
              "4   Cust7704     2015-02-26  ...       2010  past_midnight\n",
              "\n",
              "[5 rows x 42 columns]"
            ]
          },
          "metadata": {
            "tags": []
          },
          "execution_count": 122
        }
      ]
    },
    {
      "cell_type": "code",
      "metadata": {
        "colab": {
          "base_uri": "https://localhost:8080/",
          "height": 659
        },
        "id": "Lz3h5tJKffpW",
        "outputId": "67d7edb8-332b-42e2-aa7a-c7d046897480"
      },
      "source": [
        "# Time period the day where incidents are taking place\n",
        "ax = sns.countplot(x='IncidentPeriod', data=merged_data)\n",
        "ax.set_xticklabels(ax.get_xticklabels(),rotation=45)"
      ],
      "execution_count": null,
      "outputs": [
        {
          "output_type": "execute_result",
          "data": {
            "text/plain": [
              "[Text(0, 0, 'Not_known'),\n",
              " Text(0, 0, 'past_midnight'),\n",
              " Text(0, 0, 'early_morning'),\n",
              " Text(0, 0, 'morning'),\n",
              " Text(0, 0, 'fore-noon'),\n",
              " Text(0, 0, 'afternoon'),\n",
              " Text(0, 0, 'evening'),\n",
              " Text(0, 0, 'night')]"
            ]
          },
          "metadata": {
            "tags": []
          },
          "execution_count": 126
        },
        {
          "output_type": "display_data",
          "data": {
            "image/png": "[encoded data removed]",
            "text/plain": [
              "<Figure size 640x480 with 1 Axes>"
            ]
          },
          "metadata": {
            "tags": []
          }
        }
      ]
    },
    {
      "cell_type": "markdown",
      "metadata": {
        "id": "EYyn3e6Zhl9W"
      },
      "source": [
        "**Observation**:\n",
        "  Most of the incidents took palce during afternoon"
      ]
    },
    {
      "cell_type": "code",
      "metadata": {
        "colab": {
          "base_uri": "https://localhost:8080/",
          "height": 476
        },
        "id": "hRcCq7XXEnzm",
        "outputId": "a2736244-9bb5-40a1-e4d7-c772da7f2a21"
      },
      "source": [
        "# Insured age distribution\n",
        "sns.histplot(data=merged_data, x=\"InsuredAge\", hue=\"InsuredGender\", multiple=\"dodge\", bins=10)\n",
        "\n"
      ],
      "execution_count": null,
      "outputs": [
        {
          "output_type": "execute_result",
          "data": {
            "text/plain": [
              "<matplotlib.axes._subplots.AxesSubplot at 0x7f6d16a1fb90>"
            ]
          },
          "metadata": {
            "tags": []
          },
          "execution_count": 130
        },
        {
          "output_type": "display_data",
          "data": {
            "image/png": "[encoded data removed]",
            "text/plain": [
              "<Figure size 640x480 with 1 Axes>"
            ]
          },
          "metadata": {
            "tags": []
          }
        }
      ]
    },
    {
      "cell_type": "code",
      "metadata": {
        "colab": {
          "base_uri": "https://localhost:8080/"
        },
        "id": "ISJPrnqXJthe",
        "outputId": "d3e62ede-fdc9-45c0-88ef-dcb71ddc518a"
      },
      "source": [
        "merged_data.columns"
      ],
      "execution_count": null,
      "outputs": [
        {
          "output_type": "execute_result",
          "data": {
            "text/plain": [
              "Index(['CustomerID', 'DateOfIncident', 'TypeOfIncident', 'TypeOfCollission',\n",
              "       'SeverityOfIncident', 'AuthoritiesContacted', 'IncidentState',\n",
              "       'IncidentCity', 'IncidentAddress', 'IncidentTime', 'NumberOfVehicles',\n",
              "       'PropertyDamage', 'BodilyInjuries', 'Witnesses', 'PoliceReport',\n",
              "       'AmountOfTotalClaim', 'AmountOfInjuryClaim', 'AmountOfPropertyClaim',\n",
              "       'AmountOfVehicleDamage', 'InsuredAge', 'InsuredZipCode',\n",
              "       'InsuredGender', 'InsuredEducationLevel', 'InsuredOccupation',\n",
              "       'InsuredHobbies', 'CapitalGains', 'CapitalLoss', 'Country',\n",
              "       'InsurancePolicyNumber', 'CustomerLoyaltyPeriod',\n",
              "       'DateOfPolicyCoverage', 'InsurancePolicyState',\n",
              "       'Policy_CombinedSingleLimit', 'Policy_Deductible',\n",
              "       'PolicyAnnualPremium', 'UmbrellaLimit', 'InsuredRelationship',\n",
              "       'VehicleID', 'VehicleMake', 'VehicleModel', 'VehicleYOM'],\n",
              "      dtype='object')"
            ]
          },
          "metadata": {
            "tags": []
          },
          "execution_count": 110
        }
      ]
    },
    {
      "cell_type": "code",
      "metadata": {
        "colab": {
          "base_uri": "https://localhost:8080/"
        },
        "id": "i5q1vURUMFUD",
        "outputId": "98751dd7-d089-4311-c3db-69d6ae1d7093"
      },
      "source": [
        "merged_data.InsuredEducationLevel.value_counts(sort=True)"
      ],
      "execution_count": null,
      "outputs": [
        {
          "output_type": "execute_result",
          "data": {
            "text/plain": [
              "JD             4808\n",
              "High School    4583\n",
              "MD             4161\n",
              "Masters        4141\n",
              "Associate      4125\n",
              "PhD            3556\n",
              "College        3462\n",
              "Name: InsuredEducationLevel, dtype: int64"
            ]
          },
          "metadata": {
            "tags": []
          },
          "execution_count": 38
        }
      ]
    },
    {
      "cell_type": "code",
      "metadata": {
        "colab": {
          "base_uri": "https://localhost:8080/",
          "height": 487
        },
        "id": "S_8AZvmDKJqj",
        "outputId": "66fe932d-e6c4-4f7b-9059-727325d05014"
      },
      "source": [
        "# Quick check on Insured Education Level from the demographic data\n",
        "sns.countplot(y=\"InsuredEducationLevel\", data=merged_data)\n",
        "plt.title(\"Insured Education Level\")"
      ],
      "execution_count": null,
      "outputs": [
        {
          "output_type": "execute_result",
          "data": {
            "text/plain": [
              "Text(0.5, 1.0, 'Insured Education Level')"
            ]
          },
          "metadata": {
            "tags": []
          },
          "execution_count": 127
        },
        {
          "output_type": "display_data",
          "data": {
            "image/png": "[encoded data removed]",
            "text/plain": [
              "<Figure size 640x480 with 1 Axes>"
            ]
          },
          "metadata": {
            "tags": []
          }
        }
      ]
    },
    {
      "cell_type": "code",
      "metadata": {
        "colab": {
          "base_uri": "https://localhost:8080/",
          "height": 487
        },
        "id": "BkjXN3MTNK1F",
        "outputId": "18161215-da24-490e-eeb8-fc2db39eaa5f"
      },
      "source": [
        "# People belonging to which occupation the records belongs to\n",
        "sns.countplot(y=\"InsuredOccupation\", data=merged_data)\n",
        "plt.title(\"Type of Occupation of Insured people VS Number of records\")"
      ],
      "execution_count": null,
      "outputs": [
        {
          "output_type": "execute_result",
          "data": {
            "text/plain": [
              "Text(0.5, 1.0, 'Type of Occupation of Insured people VS Number of records')"
            ]
          },
          "metadata": {
            "tags": []
          },
          "execution_count": 131
        },
        {
          "output_type": "display_data",
          "data": {
            "image/png": "[encoded data removed]",
            "text/plain": [
              "<Figure size 640x480 with 1 Axes>"
            ]
          },
          "metadata": {
            "tags": []
          }
        }
      ]
    },
    {
      "cell_type": "code",
      "metadata": {
        "colab": {
          "base_uri": "https://localhost:8080/",
          "height": 309
        },
        "id": "3KJp0mCoNe9Y",
        "outputId": "afb86fc5-67f6-4ade-f41d-a37c35b07146"
      },
      "source": [
        "merged_data.head()"
      ],
      "execution_count": null,
      "outputs": [
        {
          "output_type": "execute_result",
          "data": {
            "text/html": [
              "<div>\n",
              "<style scoped>\n",
              "    .dataframe tbody tr th:only-of-type {\n",
              "        vertical-align: middle;\n",
              "    }\n",
              "\n",
              "    .dataframe tbody tr th {\n",
              "        vertical-align: top;\n",
              "    }\n",
              "\n",
              "    .dataframe thead th {\n",
              "        text-align: right;\n",
              "    }\n",
              "</style>\n",
              "<table border=\"1\" class=\"dataframe\">\n",
              "  <thead>\n",
              "    <tr style=\"text-align: right;\">\n",
              "      <th></th>\n",
              "      <th>CustomerID</th>\n",
              "      <th>DateOfIncident</th>\n",
              "      <th>TypeOfIncident</th>\n",
              "      <th>TypeOfCollission</th>\n",
              "      <th>SeverityOfIncident</th>\n",
              "      <th>AuthoritiesContacted</th>\n",
              "      <th>IncidentState</th>\n",
              "      <th>IncidentCity</th>\n",
              "      <th>IncidentAddress</th>\n",
              "      <th>IncidentTime</th>\n",
              "      <th>NumberOfVehicles</th>\n",
              "      <th>PropertyDamage</th>\n",
              "      <th>BodilyInjuries</th>\n",
              "      <th>Witnesses</th>\n",
              "      <th>PoliceReport</th>\n",
              "      <th>AmountOfTotalClaim</th>\n",
              "      <th>AmountOfInjuryClaim</th>\n",
              "      <th>AmountOfPropertyClaim</th>\n",
              "      <th>AmountOfVehicleDamage</th>\n",
              "      <th>InsuredAge</th>\n",
              "      <th>InsuredZipCode</th>\n",
              "      <th>InsuredGender</th>\n",
              "      <th>InsuredEducationLevel</th>\n",
              "      <th>InsuredOccupation</th>\n",
              "      <th>InsuredHobbies</th>\n",
              "      <th>CapitalGains</th>\n",
              "      <th>CapitalLoss</th>\n",
              "      <th>Country</th>\n",
              "      <th>InsurancePolicyNumber</th>\n",
              "      <th>CustomerLoyaltyPeriod</th>\n",
              "      <th>DateOfPolicyCoverage</th>\n",
              "      <th>InsurancePolicyState</th>\n",
              "      <th>Policy_CombinedSingleLimit</th>\n",
              "      <th>Policy_Deductible</th>\n",
              "      <th>PolicyAnnualPremium</th>\n",
              "      <th>UmbrellaLimit</th>\n",
              "      <th>InsuredRelationship</th>\n",
              "      <th>VehicleID</th>\n",
              "      <th>VehicleMake</th>\n",
              "      <th>VehicleModel</th>\n",
              "      <th>VehicleYOM</th>\n",
              "    </tr>\n",
              "  </thead>\n",
              "  <tbody>\n",
              "    <tr>\n",
              "      <th>0</th>\n",
              "      <td>Cust20065</td>\n",
              "      <td>2015-01-09</td>\n",
              "      <td>Multi-vehicle Collision</td>\n",
              "      <td>Rear Collision</td>\n",
              "      <td>Total Loss</td>\n",
              "      <td>Other</td>\n",
              "      <td>State9</td>\n",
              "      <td>City4</td>\n",
              "      <td>Location 1404</td>\n",
              "      <td>19</td>\n",
              "      <td>3</td>\n",
              "      <td>?</td>\n",
              "      <td>1</td>\n",
              "      <td>1.0</td>\n",
              "      <td>?</td>\n",
              "      <td>43973.0</td>\n",
              "      <td>9396</td>\n",
              "      <td>4698</td>\n",
              "      <td>29879</td>\n",
              "      <td>58</td>\n",
              "      <td>471784</td>\n",
              "      <td>MALE</td>\n",
              "      <td>JD</td>\n",
              "      <td>sales</td>\n",
              "      <td>video-games</td>\n",
              "      <td>0</td>\n",
              "      <td>-42700</td>\n",
              "      <td>India</td>\n",
              "      <td>129186</td>\n",
              "      <td>432</td>\n",
              "      <td>1998-11-14</td>\n",
              "      <td>State2</td>\n",
              "      <td>250/500</td>\n",
              "      <td>2000</td>\n",
              "      <td>1142.87</td>\n",
              "      <td>0</td>\n",
              "      <td>own-child</td>\n",
              "      <td>Vehicle30662</td>\n",
              "      <td>Mercedes</td>\n",
              "      <td>E400</td>\n",
              "      <td>2005</td>\n",
              "    </tr>\n",
              "    <tr>\n",
              "      <th>1</th>\n",
              "      <td>Cust37589</td>\n",
              "      <td>2015-02-20</td>\n",
              "      <td>Single Vehicle Collision</td>\n",
              "      <td>Side Collision</td>\n",
              "      <td>Minor Damage</td>\n",
              "      <td>Ambulance</td>\n",
              "      <td>State4</td>\n",
              "      <td>City3</td>\n",
              "      <td>Location 1675</td>\n",
              "      <td>14</td>\n",
              "      <td>1</td>\n",
              "      <td>?</td>\n",
              "      <td>1</td>\n",
              "      <td>1.0</td>\n",
              "      <td>YES</td>\n",
              "      <td>62310.0</td>\n",
              "      <td>6539</td>\n",
              "      <td>6539</td>\n",
              "      <td>49232</td>\n",
              "      <td>34</td>\n",
              "      <td>431937</td>\n",
              "      <td>FEMALE</td>\n",
              "      <td>High School</td>\n",
              "      <td>transport-moving</td>\n",
              "      <td>polo</td>\n",
              "      <td>51300</td>\n",
              "      <td>0</td>\n",
              "      <td>India</td>\n",
              "      <td>146710</td>\n",
              "      <td>128</td>\n",
              "      <td>2000-08-19</td>\n",
              "      <td>State2</td>\n",
              "      <td>100/300</td>\n",
              "      <td>1000</td>\n",
              "      <td>1274.38</td>\n",
              "      <td>2857344</td>\n",
              "      <td>own-child</td>\n",
              "      <td>Vehicle17183</td>\n",
              "      <td>Toyota</td>\n",
              "      <td>Highlander</td>\n",
              "      <td>2010</td>\n",
              "    </tr>\n",
              "    <tr>\n",
              "      <th>2</th>\n",
              "      <td>Cust24312</td>\n",
              "      <td>2015-01-14</td>\n",
              "      <td>Multi-vehicle Collision</td>\n",
              "      <td>Side Collision</td>\n",
              "      <td>Major Damage</td>\n",
              "      <td>Ambulance</td>\n",
              "      <td>State5</td>\n",
              "      <td>City2</td>\n",
              "      <td>Location 1546</td>\n",
              "      <td>21</td>\n",
              "      <td>3</td>\n",
              "      <td>?</td>\n",
              "      <td>0</td>\n",
              "      <td>0.0</td>\n",
              "      <td>?</td>\n",
              "      <td>42824.0</td>\n",
              "      <td>6069</td>\n",
              "      <td>6069</td>\n",
              "      <td>30686</td>\n",
              "      <td>52</td>\n",
              "      <td>479320</td>\n",
              "      <td>FEMALE</td>\n",
              "      <td>PhD</td>\n",
              "      <td>machine-op-inspct</td>\n",
              "      <td>exercise</td>\n",
              "      <td>0</td>\n",
              "      <td>0</td>\n",
              "      <td>India</td>\n",
              "      <td>133433</td>\n",
              "      <td>346</td>\n",
              "      <td>2000-06-23</td>\n",
              "      <td>State1</td>\n",
              "      <td>500/1000</td>\n",
              "      <td>745</td>\n",
              "      <td>1269.93</td>\n",
              "      <td>0</td>\n",
              "      <td>other-relative</td>\n",
              "      <td>Vehicle33982</td>\n",
              "      <td>Volkswagen</td>\n",
              "      <td>Passat</td>\n",
              "      <td>2002</td>\n",
              "    </tr>\n",
              "    <tr>\n",
              "      <th>3</th>\n",
              "      <td>Cust5493</td>\n",
              "      <td>2015-01-07</td>\n",
              "      <td>Multi-vehicle Collision</td>\n",
              "      <td>Side Collision</td>\n",
              "      <td>Major Damage</td>\n",
              "      <td>Ambulance</td>\n",
              "      <td>State7</td>\n",
              "      <td>City4</td>\n",
              "      <td>Location 1413</td>\n",
              "      <td>12</td>\n",
              "      <td>3</td>\n",
              "      <td>YES</td>\n",
              "      <td>2</td>\n",
              "      <td>0.0</td>\n",
              "      <td>?</td>\n",
              "      <td>45672.0</td>\n",
              "      <td>253</td>\n",
              "      <td>5741</td>\n",
              "      <td>39678</td>\n",
              "      <td>25</td>\n",
              "      <td>607763</td>\n",
              "      <td>FEMALE</td>\n",
              "      <td>College</td>\n",
              "      <td>exec-managerial</td>\n",
              "      <td>exercise</td>\n",
              "      <td>47400</td>\n",
              "      <td>-56100</td>\n",
              "      <td>India</td>\n",
              "      <td>114614</td>\n",
              "      <td>42</td>\n",
              "      <td>1992-01-15</td>\n",
              "      <td>State2</td>\n",
              "      <td>100/300</td>\n",
              "      <td>986</td>\n",
              "      <td>1218.60</td>\n",
              "      <td>0</td>\n",
              "      <td>other-relative</td>\n",
              "      <td>Vehicle12299</td>\n",
              "      <td>Toyota</td>\n",
              "      <td>Highlander</td>\n",
              "      <td>2011</td>\n",
              "    </tr>\n",
              "    <tr>\n",
              "      <th>4</th>\n",
              "      <td>Cust7704</td>\n",
              "      <td>2015-02-26</td>\n",
              "      <td>Multi-vehicle Collision</td>\n",
              "      <td>Side Collision</td>\n",
              "      <td>Major Damage</td>\n",
              "      <td>Other</td>\n",
              "      <td>State4</td>\n",
              "      <td>City6</td>\n",
              "      <td>Location 1367</td>\n",
              "      <td>3</td>\n",
              "      <td>3</td>\n",
              "      <td>NO</td>\n",
              "      <td>1</td>\n",
              "      <td>2.0</td>\n",
              "      <td>NO</td>\n",
              "      <td>81472.0</td>\n",
              "      <td>7407</td>\n",
              "      <td>14813</td>\n",
              "      <td>59252</td>\n",
              "      <td>27</td>\n",
              "      <td>441783</td>\n",
              "      <td>MALE</td>\n",
              "      <td>Masters</td>\n",
              "      <td>sales</td>\n",
              "      <td>chess</td>\n",
              "      <td>0</td>\n",
              "      <td>0</td>\n",
              "      <td>India</td>\n",
              "      <td>116825</td>\n",
              "      <td>109</td>\n",
              "      <td>2001-09-23</td>\n",
              "      <td>State3</td>\n",
              "      <td>250/500</td>\n",
              "      <td>576</td>\n",
              "      <td>1431.02</td>\n",
              "      <td>4235779</td>\n",
              "      <td>unmarried</td>\n",
              "      <td>Vehicle30447</td>\n",
              "      <td>Ford</td>\n",
              "      <td>Wrangler</td>\n",
              "      <td>2010</td>\n",
              "    </tr>\n",
              "  </tbody>\n",
              "</table>\n",
              "</div>"
            ],
            "text/plain": [
              "  CustomerID DateOfIncident            TypeOfIncident TypeOfCollission  \\\n",
              "0  Cust20065     2015-01-09   Multi-vehicle Collision   Rear Collision   \n",
              "1  Cust37589     2015-02-20  Single Vehicle Collision   Side Collision   \n",
              "2  Cust24312     2015-01-14   Multi-vehicle Collision   Side Collision   \n",
              "3   Cust5493     2015-01-07   Multi-vehicle Collision   Side Collision   \n",
              "4   Cust7704     2015-02-26   Multi-vehicle Collision   Side Collision   \n",
              "\n",
              "  SeverityOfIncident AuthoritiesContacted IncidentState IncidentCity  \\\n",
              "0         Total Loss                Other        State9        City4   \n",
              "1       Minor Damage            Ambulance        State4        City3   \n",
              "2       Major Damage            Ambulance        State5        City2   \n",
              "3       Major Damage            Ambulance        State7        City4   \n",
              "4       Major Damage                Other        State4        City6   \n",
              "\n",
              "  IncidentAddress  IncidentTime  NumberOfVehicles PropertyDamage  \\\n",
              "0   Location 1404            19                 3              ?   \n",
              "1   Location 1675            14                 1              ?   \n",
              "2   Location 1546            21                 3              ?   \n",
              "3   Location 1413            12                 3            YES   \n",
              "4   Location 1367             3                 3             NO   \n",
              "\n",
              "   BodilyInjuries  Witnesses PoliceReport  AmountOfTotalClaim  \\\n",
              "0               1        1.0            ?             43973.0   \n",
              "1               1        1.0          YES             62310.0   \n",
              "2               0        0.0            ?             42824.0   \n",
              "3               2        0.0            ?             45672.0   \n",
              "4               1        2.0           NO             81472.0   \n",
              "\n",
              "   AmountOfInjuryClaim  AmountOfPropertyClaim  AmountOfVehicleDamage  \\\n",
              "0                 9396                   4698                  29879   \n",
              "1                 6539                   6539                  49232   \n",
              "2                 6069                   6069                  30686   \n",
              "3                  253                   5741                  39678   \n",
              "4                 7407                  14813                  59252   \n",
              "\n",
              "   InsuredAge  InsuredZipCode InsuredGender InsuredEducationLevel  \\\n",
              "0          58          471784          MALE                    JD   \n",
              "1          34          431937        FEMALE           High School   \n",
              "2          52          479320        FEMALE                   PhD   \n",
              "3          25          607763        FEMALE               College   \n",
              "4          27          441783          MALE               Masters   \n",
              "\n",
              "   InsuredOccupation InsuredHobbies  CapitalGains  CapitalLoss Country  \\\n",
              "0              sales    video-games             0       -42700   India   \n",
              "1   transport-moving           polo         51300            0   India   \n",
              "2  machine-op-inspct       exercise             0            0   India   \n",
              "3    exec-managerial       exercise         47400       -56100   India   \n",
              "4              sales          chess             0            0   India   \n",
              "\n",
              "   InsurancePolicyNumber  CustomerLoyaltyPeriod DateOfPolicyCoverage  \\\n",
              "0                 129186                    432           1998-11-14   \n",
              "1                 146710                    128           2000-08-19   \n",
              "2                 133433                    346           2000-06-23   \n",
              "3                 114614                     42           1992-01-15   \n",
              "4                 116825                    109           2001-09-23   \n",
              "\n",
              "  InsurancePolicyState Policy_CombinedSingleLimit  Policy_Deductible  \\\n",
              "0               State2                    250/500               2000   \n",
              "1               State2                    100/300               1000   \n",
              "2               State1                   500/1000                745   \n",
              "3               State2                    100/300                986   \n",
              "4               State3                    250/500                576   \n",
              "\n",
              "   PolicyAnnualPremium  UmbrellaLimit InsuredRelationship     VehicleID  \\\n",
              "0              1142.87              0           own-child  Vehicle30662   \n",
              "1              1274.38        2857344           own-child  Vehicle17183   \n",
              "2              1269.93              0      other-relative  Vehicle33982   \n",
              "3              1218.60              0      other-relative  Vehicle12299   \n",
              "4              1431.02        4235779           unmarried  Vehicle30447   \n",
              "\n",
              "  VehicleMake VehicleModel VehicleYOM  \n",
              "0    Mercedes         E400       2005  \n",
              "1      Toyota   Highlander       2010  \n",
              "2  Volkswagen       Passat       2002  \n",
              "3      Toyota   Highlander       2011  \n",
              "4        Ford     Wrangler       2010  "
            ]
          },
          "metadata": {
            "tags": []
          },
          "execution_count": 120
        }
      ]
    },
    {
      "cell_type": "code",
      "metadata": {
        "colab": {
          "base_uri": "https://localhost:8080/"
        },
        "id": "hpF2BBoVUaQT",
        "outputId": "86bb0ea9-00b1-42e6-fd42-3e3ff614a89c"
      },
      "source": [
        "merged_data.UmbrellaLimit.describe()"
      ],
      "execution_count": null,
      "outputs": [
        {
          "output_type": "execute_result",
          "data": {
            "text/plain": [
              "count    2.883600e+04\n",
              "mean     9.836680e+05\n",
              "std      1.969282e+06\n",
              "min     -1.000000e+06\n",
              "25%      0.000000e+00\n",
              "50%      0.000000e+00\n",
              "75%      4.859610e+05\n",
              "max      1.000000e+07\n",
              "Name: UmbrellaLimit, dtype: float64"
            ]
          },
          "metadata": {
            "tags": []
          },
          "execution_count": 124
        }
      ]
    },
    {
      "cell_type": "code",
      "metadata": {
        "colab": {
          "base_uri": "https://localhost:8080/",
          "height": 469
        },
        "id": "3UBrK8ntjaZa",
        "outputId": "9e209ea2-fe80-4514-b1ac-848fc0e94465"
      },
      "source": [
        "# Range of Total amount of claim in the data\n",
        "plt.hist(x=merged_data['AmountOfTotalClaim'], bins=20, )\n",
        "plt.title(\"Distribution of amount of claim\")\n",
        "plt.ylabel(\"Number of Records\")\n"
      ],
      "execution_count": null,
      "outputs": [
        {
          "output_type": "execute_result",
          "data": {
            "text/plain": [
              "Text(0, 0.5, 'Number of Records')"
            ]
          },
          "metadata": {
            "tags": []
          },
          "execution_count": 138
        },
        {
          "output_type": "display_data",
          "data": {
            "image/png": "[encoded data removed]",
            "text/plain": [
              "<Figure size 640x480 with 1 Axes>"
            ]
          },
          "metadata": {
            "tags": []
          }
        }
      ]
    },
    {
      "cell_type": "code",
      "metadata": {
        "colab": {
          "base_uri": "https://localhost:8080/",
          "height": 292
        },
        "id": "q8xnWX8h3Fez",
        "outputId": "45923794-9fd3-4615-f45e-ddd530990e9f"
      },
      "source": [
        "# Subsetting customers with umbrella limit\n",
        "umbrella_limt= merged_data[merged_data.UmbrellaLimit!= 0]\n",
        "umbrella_limt.head()"
      ],
      "execution_count": null,
      "outputs": [
        {
          "output_type": "execute_result",
          "data": {
            "text/html": [
              "<div>\n",
              "<style scoped>\n",
              "    .dataframe tbody tr th:only-of-type {\n",
              "        vertical-align: middle;\n",
              "    }\n",
              "\n",
              "    .dataframe tbody tr th {\n",
              "        vertical-align: top;\n",
              "    }\n",
              "\n",
              "    .dataframe thead th {\n",
              "        text-align: right;\n",
              "    }\n",
              "</style>\n",
              "<table border=\"1\" class=\"dataframe\">\n",
              "  <thead>\n",
              "    <tr style=\"text-align: right;\">\n",
              "      <th></th>\n",
              "      <th>CustomerID</th>\n",
              "      <th>DateOfIncident</th>\n",
              "      <th>TypeOfIncident</th>\n",
              "      <th>TypeOfCollission</th>\n",
              "      <th>SeverityOfIncident</th>\n",
              "      <th>AuthoritiesContacted</th>\n",
              "      <th>IncidentState</th>\n",
              "      <th>IncidentCity</th>\n",
              "      <th>IncidentAddress</th>\n",
              "      <th>IncidentTime</th>\n",
              "      <th>NumberOfVehicles</th>\n",
              "      <th>PropertyDamage</th>\n",
              "      <th>BodilyInjuries</th>\n",
              "      <th>Witnesses</th>\n",
              "      <th>PoliceReport</th>\n",
              "      <th>AmountOfTotalClaim</th>\n",
              "      <th>AmountOfInjuryClaim</th>\n",
              "      <th>AmountOfPropertyClaim</th>\n",
              "      <th>AmountOfVehicleDamage</th>\n",
              "      <th>InsuredAge</th>\n",
              "      <th>InsuredZipCode</th>\n",
              "      <th>InsuredGender</th>\n",
              "      <th>InsuredEducationLevel</th>\n",
              "      <th>InsuredOccupation</th>\n",
              "      <th>InsuredHobbies</th>\n",
              "      <th>CapitalGains</th>\n",
              "      <th>CapitalLoss</th>\n",
              "      <th>Country</th>\n",
              "      <th>InsurancePolicyNumber</th>\n",
              "      <th>CustomerLoyaltyPeriod</th>\n",
              "      <th>DateOfPolicyCoverage</th>\n",
              "      <th>InsurancePolicyState</th>\n",
              "      <th>Policy_CombinedSingleLimit</th>\n",
              "      <th>Policy_Deductible</th>\n",
              "      <th>PolicyAnnualPremium</th>\n",
              "      <th>UmbrellaLimit</th>\n",
              "      <th>InsuredRelationship</th>\n",
              "      <th>VehicleID</th>\n",
              "      <th>VehicleMake</th>\n",
              "      <th>VehicleModel</th>\n",
              "      <th>VehicleYOM</th>\n",
              "    </tr>\n",
              "  </thead>\n",
              "  <tbody>\n",
              "    <tr>\n",
              "      <th>1</th>\n",
              "      <td>Cust37589</td>\n",
              "      <td>2015-02-20</td>\n",
              "      <td>Single Vehicle Collision</td>\n",
              "      <td>Side Collision</td>\n",
              "      <td>Minor Damage</td>\n",
              "      <td>Ambulance</td>\n",
              "      <td>State4</td>\n",
              "      <td>City3</td>\n",
              "      <td>Location 1675</td>\n",
              "      <td>14</td>\n",
              "      <td>1</td>\n",
              "      <td>?</td>\n",
              "      <td>1</td>\n",
              "      <td>1.0</td>\n",
              "      <td>YES</td>\n",
              "      <td>62310.0</td>\n",
              "      <td>6539</td>\n",
              "      <td>6539</td>\n",
              "      <td>49232</td>\n",
              "      <td>34</td>\n",
              "      <td>431937</td>\n",
              "      <td>FEMALE</td>\n",
              "      <td>High School</td>\n",
              "      <td>transport-moving</td>\n",
              "      <td>polo</td>\n",
              "      <td>51300</td>\n",
              "      <td>0</td>\n",
              "      <td>India</td>\n",
              "      <td>146710</td>\n",
              "      <td>128</td>\n",
              "      <td>2000-08-19</td>\n",
              "      <td>State2</td>\n",
              "      <td>100/300</td>\n",
              "      <td>1000</td>\n",
              "      <td>1274.38</td>\n",
              "      <td>2857344</td>\n",
              "      <td>own-child</td>\n",
              "      <td>Vehicle17183</td>\n",
              "      <td>Toyota</td>\n",
              "      <td>Highlander</td>\n",
              "      <td>2010</td>\n",
              "    </tr>\n",
              "    <tr>\n",
              "      <th>4</th>\n",
              "      <td>Cust7704</td>\n",
              "      <td>2015-02-26</td>\n",
              "      <td>Multi-vehicle Collision</td>\n",
              "      <td>Side Collision</td>\n",
              "      <td>Major Damage</td>\n",
              "      <td>Other</td>\n",
              "      <td>State4</td>\n",
              "      <td>City6</td>\n",
              "      <td>Location 1367</td>\n",
              "      <td>3</td>\n",
              "      <td>3</td>\n",
              "      <td>NO</td>\n",
              "      <td>1</td>\n",
              "      <td>2.0</td>\n",
              "      <td>NO</td>\n",
              "      <td>81472.0</td>\n",
              "      <td>7407</td>\n",
              "      <td>14813</td>\n",
              "      <td>59252</td>\n",
              "      <td>27</td>\n",
              "      <td>441783</td>\n",
              "      <td>MALE</td>\n",
              "      <td>Masters</td>\n",
              "      <td>sales</td>\n",
              "      <td>chess</td>\n",
              "      <td>0</td>\n",
              "      <td>0</td>\n",
              "      <td>India</td>\n",
              "      <td>116825</td>\n",
              "      <td>109</td>\n",
              "      <td>2001-09-23</td>\n",
              "      <td>State3</td>\n",
              "      <td>250/500</td>\n",
              "      <td>576</td>\n",
              "      <td>1431.02</td>\n",
              "      <td>4235779</td>\n",
              "      <td>unmarried</td>\n",
              "      <td>Vehicle30447</td>\n",
              "      <td>Ford</td>\n",
              "      <td>Wrangler</td>\n",
              "      <td>2010</td>\n",
              "    </tr>\n",
              "    <tr>\n",
              "      <th>11</th>\n",
              "      <td>Cust25861</td>\n",
              "      <td>2015-02-14</td>\n",
              "      <td>Multi-vehicle Collision</td>\n",
              "      <td>Rear Collision</td>\n",
              "      <td>Total Loss</td>\n",
              "      <td>Fire</td>\n",
              "      <td>State8</td>\n",
              "      <td>City4</td>\n",
              "      <td>Location 1172</td>\n",
              "      <td>14</td>\n",
              "      <td>3</td>\n",
              "      <td>YES</td>\n",
              "      <td>1</td>\n",
              "      <td>1.0</td>\n",
              "      <td>?</td>\n",
              "      <td>72456.0</td>\n",
              "      <td>2666</td>\n",
              "      <td>13174</td>\n",
              "      <td>56616</td>\n",
              "      <td>36</td>\n",
              "      <td>472573</td>\n",
              "      <td>FEMALE</td>\n",
              "      <td>JD</td>\n",
              "      <td>protective-serv</td>\n",
              "      <td>polo</td>\n",
              "      <td>0</td>\n",
              "      <td>-70900</td>\n",
              "      <td>India</td>\n",
              "      <td>134982</td>\n",
              "      <td>197</td>\n",
              "      <td>1996-05-09</td>\n",
              "      <td>State2</td>\n",
              "      <td>100/300</td>\n",
              "      <td>500</td>\n",
              "      <td>1369.71</td>\n",
              "      <td>3966562</td>\n",
              "      <td>own-child</td>\n",
              "      <td>Vehicle17424</td>\n",
              "      <td>Honda</td>\n",
              "      <td>Escape</td>\n",
              "      <td>2011</td>\n",
              "    </tr>\n",
              "    <tr>\n",
              "      <th>12</th>\n",
              "      <td>Cust33706</td>\n",
              "      <td>2015-02-04</td>\n",
              "      <td>Parked Car</td>\n",
              "      <td>?</td>\n",
              "      <td>Minor Damage</td>\n",
              "      <td>None</td>\n",
              "      <td>State5</td>\n",
              "      <td>City4</td>\n",
              "      <td>Location 1421</td>\n",
              "      <td>6</td>\n",
              "      <td>1</td>\n",
              "      <td>NO</td>\n",
              "      <td>1</td>\n",
              "      <td>2.0</td>\n",
              "      <td>NO</td>\n",
              "      <td>5326.0</td>\n",
              "      <td>1009</td>\n",
              "      <td>504</td>\n",
              "      <td>3813</td>\n",
              "      <td>48</td>\n",
              "      <td>432699</td>\n",
              "      <td>FEMALE</td>\n",
              "      <td>JD</td>\n",
              "      <td>tech-support</td>\n",
              "      <td>hiking</td>\n",
              "      <td>0</td>\n",
              "      <td>0</td>\n",
              "      <td>India</td>\n",
              "      <td>142827</td>\n",
              "      <td>323</td>\n",
              "      <td>2003-10-18</td>\n",
              "      <td>State2</td>\n",
              "      <td>250/500</td>\n",
              "      <td>500</td>\n",
              "      <td>1406.33</td>\n",
              "      <td>6117043</td>\n",
              "      <td>other-relative</td>\n",
              "      <td>Vehicle37690</td>\n",
              "      <td>Saab</td>\n",
              "      <td>92x</td>\n",
              "      <td>2006</td>\n",
              "    </tr>\n",
              "    <tr>\n",
              "      <th>15</th>\n",
              "      <td>Cust6129</td>\n",
              "      <td>2015-02-27</td>\n",
              "      <td>Single Vehicle Collision</td>\n",
              "      <td>Side Collision</td>\n",
              "      <td>Major Damage</td>\n",
              "      <td>Ambulance</td>\n",
              "      <td>State9</td>\n",
              "      <td>City6</td>\n",
              "      <td>Location 1969</td>\n",
              "      <td>10</td>\n",
              "      <td>3</td>\n",
              "      <td>NO</td>\n",
              "      <td>2</td>\n",
              "      <td>2.0</td>\n",
              "      <td>?</td>\n",
              "      <td>67291.0</td>\n",
              "      <td>7444</td>\n",
              "      <td>7737</td>\n",
              "      <td>52110</td>\n",
              "      <td>37</td>\n",
              "      <td>610393</td>\n",
              "      <td>MALE</td>\n",
              "      <td>JD</td>\n",
              "      <td>craft-repair</td>\n",
              "      <td>yachting</td>\n",
              "      <td>0</td>\n",
              "      <td>-56200</td>\n",
              "      <td>India</td>\n",
              "      <td>115250</td>\n",
              "      <td>160</td>\n",
              "      <td>2007-06-19</td>\n",
              "      <td>State2</td>\n",
              "      <td>100/500</td>\n",
              "      <td>2000</td>\n",
              "      <td>1333.19</td>\n",
              "      <td>7917174</td>\n",
              "      <td>husband</td>\n",
              "      <td>Vehicle8121</td>\n",
              "      <td>Ford</td>\n",
              "      <td>F150</td>\n",
              "      <td>2006</td>\n",
              "    </tr>\n",
              "  </tbody>\n",
              "</table>\n",
              "</div>"
            ],
            "text/plain": [
              "   CustomerID DateOfIncident  ... VehicleModel VehicleYOM\n",
              "1   Cust37589     2015-02-20  ...   Highlander       2010\n",
              "4    Cust7704     2015-02-26  ...     Wrangler       2010\n",
              "11  Cust25861     2015-02-14  ...       Escape       2011\n",
              "12  Cust33706     2015-02-04  ...          92x       2006\n",
              "15   Cust6129     2015-02-27  ...         F150       2006\n",
              "\n",
              "[5 rows x 41 columns]"
            ]
          },
          "metadata": {
            "tags": []
          },
          "execution_count": 187
        }
      ]
    },
    {
      "cell_type": "code",
      "metadata": {
        "colab": {
          "base_uri": "https://localhost:8080/",
          "height": 485
        },
        "id": "JOo0Vb4_3ZH8",
        "outputId": "d96549f9-ff42-4a49-96e1-9c1f6fee2f44"
      },
      "source": [
        "# Dist plot\n",
        "plt.hist(x=umbrella_limt['UmbrellaLimit'], bins=20)\n",
        "plt.title(\"Distribution of umbrella limit\")\n"
      ],
      "execution_count": null,
      "outputs": [
        {
          "output_type": "execute_result",
          "data": {
            "text/plain": [
              "Text(0.5, 1.0, 'Distribution of amount of claim')"
            ]
          },
          "metadata": {
            "tags": []
          },
          "execution_count": 190
        },
        {
          "output_type": "display_data",
          "data": {
            "image/png": "[encoded data removed]",
            "text/plain": [
              "<Figure size 640x480 with 1 Axes>"
            ]
          },
          "metadata": {
            "tags": []
          }
        }
      ]
    },
    {
      "cell_type": "code",
      "metadata": {
        "colab": {
          "base_uri": "https://localhost:8080/",
          "height": 487
        },
        "id": "i7V1Z2uXgLE8",
        "outputId": "d61847cd-ff1a-44b1-922b-6d6d00606adc"
      },
      "source": [
        "#Box plot\n",
        "sns.boxplot(x='SeverityOfIncident',y='AmountOfTotalClaim', data=merged_data)\n",
        "plt.title(\"Box Plot\")"
      ],
      "execution_count": null,
      "outputs": [
        {
          "output_type": "execute_result",
          "data": {
            "text/plain": [
              "Text(0.5, 1.0, 'Box Plot')"
            ]
          },
          "metadata": {
            "tags": []
          },
          "execution_count": 148
        },
        {
          "output_type": "display_data",
          "data": {
            "image/png": "[encoded data removed]",
            "text/plain": [
              "<Figure size 640x480 with 1 Axes>"
            ]
          },
          "metadata": {
            "tags": []
          }
        }
      ]
    },
    {
      "cell_type": "code",
      "metadata": {
        "colab": {
          "base_uri": "https://localhost:8080/",
          "height": 309
        },
        "id": "SxpDOkqIi7jm",
        "outputId": "29a3c2ba-9c7c-4104-ce46-d84d2287ea0a"
      },
      "source": [
        "# Calculating the financial status of the customer\n",
        "merged_data['Status'] = merged_data['CapitalGains'] + merged_data['CapitalLoss']\n",
        "merged_data.head()"
      ],
      "execution_count": null,
      "outputs": [
        {
          "output_type": "execute_result",
          "data": {
            "text/html": [
              "<div>\n",
              "<style scoped>\n",
              "    .dataframe tbody tr th:only-of-type {\n",
              "        vertical-align: middle;\n",
              "    }\n",
              "\n",
              "    .dataframe tbody tr th {\n",
              "        vertical-align: top;\n",
              "    }\n",
              "\n",
              "    .dataframe thead th {\n",
              "        text-align: right;\n",
              "    }\n",
              "</style>\n",
              "<table border=\"1\" class=\"dataframe\">\n",
              "  <thead>\n",
              "    <tr style=\"text-align: right;\">\n",
              "      <th></th>\n",
              "      <th>CustomerID</th>\n",
              "      <th>DateOfIncident</th>\n",
              "      <th>TypeOfIncident</th>\n",
              "      <th>TypeOfCollission</th>\n",
              "      <th>SeverityOfIncident</th>\n",
              "      <th>AuthoritiesContacted</th>\n",
              "      <th>IncidentState</th>\n",
              "      <th>IncidentCity</th>\n",
              "      <th>IncidentAddress</th>\n",
              "      <th>IncidentTime</th>\n",
              "      <th>NumberOfVehicles</th>\n",
              "      <th>PropertyDamage</th>\n",
              "      <th>BodilyInjuries</th>\n",
              "      <th>Witnesses</th>\n",
              "      <th>PoliceReport</th>\n",
              "      <th>AmountOfTotalClaim</th>\n",
              "      <th>AmountOfInjuryClaim</th>\n",
              "      <th>AmountOfPropertyClaim</th>\n",
              "      <th>AmountOfVehicleDamage</th>\n",
              "      <th>InsuredAge</th>\n",
              "      <th>InsuredZipCode</th>\n",
              "      <th>InsuredGender</th>\n",
              "      <th>InsuredEducationLevel</th>\n",
              "      <th>InsuredOccupation</th>\n",
              "      <th>InsuredHobbies</th>\n",
              "      <th>CapitalGains</th>\n",
              "      <th>CapitalLoss</th>\n",
              "      <th>Country</th>\n",
              "      <th>InsurancePolicyNumber</th>\n",
              "      <th>CustomerLoyaltyPeriod</th>\n",
              "      <th>DateOfPolicyCoverage</th>\n",
              "      <th>InsurancePolicyState</th>\n",
              "      <th>Policy_CombinedSingleLimit</th>\n",
              "      <th>Policy_Deductible</th>\n",
              "      <th>PolicyAnnualPremium</th>\n",
              "      <th>UmbrellaLimit</th>\n",
              "      <th>InsuredRelationship</th>\n",
              "      <th>VehicleID</th>\n",
              "      <th>VehicleMake</th>\n",
              "      <th>VehicleModel</th>\n",
              "      <th>VehicleYOM</th>\n",
              "      <th>IncidentPeriod</th>\n",
              "      <th>Status</th>\n",
              "    </tr>\n",
              "  </thead>\n",
              "  <tbody>\n",
              "    <tr>\n",
              "      <th>0</th>\n",
              "      <td>Cust20065</td>\n",
              "      <td>2015-01-09</td>\n",
              "      <td>Multi-vehicle Collision</td>\n",
              "      <td>Rear Collision</td>\n",
              "      <td>Total Loss</td>\n",
              "      <td>Other</td>\n",
              "      <td>State9</td>\n",
              "      <td>City4</td>\n",
              "      <td>Location 1404</td>\n",
              "      <td>19</td>\n",
              "      <td>3</td>\n",
              "      <td>?</td>\n",
              "      <td>1</td>\n",
              "      <td>1.0</td>\n",
              "      <td>?</td>\n",
              "      <td>43973.0</td>\n",
              "      <td>9396</td>\n",
              "      <td>4698</td>\n",
              "      <td>29879</td>\n",
              "      <td>58</td>\n",
              "      <td>471784</td>\n",
              "      <td>MALE</td>\n",
              "      <td>JD</td>\n",
              "      <td>sales</td>\n",
              "      <td>video-games</td>\n",
              "      <td>0</td>\n",
              "      <td>-42700</td>\n",
              "      <td>India</td>\n",
              "      <td>129186</td>\n",
              "      <td>432</td>\n",
              "      <td>1998-11-14</td>\n",
              "      <td>State2</td>\n",
              "      <td>250/500</td>\n",
              "      <td>2000</td>\n",
              "      <td>1142.87</td>\n",
              "      <td>0</td>\n",
              "      <td>own-child</td>\n",
              "      <td>Vehicle30662</td>\n",
              "      <td>Mercedes</td>\n",
              "      <td>E400</td>\n",
              "      <td>2005</td>\n",
              "      <td>evening</td>\n",
              "      <td>-42700</td>\n",
              "    </tr>\n",
              "    <tr>\n",
              "      <th>1</th>\n",
              "      <td>Cust37589</td>\n",
              "      <td>2015-02-20</td>\n",
              "      <td>Single Vehicle Collision</td>\n",
              "      <td>Side Collision</td>\n",
              "      <td>Minor Damage</td>\n",
              "      <td>Ambulance</td>\n",
              "      <td>State4</td>\n",
              "      <td>City3</td>\n",
              "      <td>Location 1675</td>\n",
              "      <td>14</td>\n",
              "      <td>1</td>\n",
              "      <td>?</td>\n",
              "      <td>1</td>\n",
              "      <td>1.0</td>\n",
              "      <td>YES</td>\n",
              "      <td>62310.0</td>\n",
              "      <td>6539</td>\n",
              "      <td>6539</td>\n",
              "      <td>49232</td>\n",
              "      <td>34</td>\n",
              "      <td>431937</td>\n",
              "      <td>FEMALE</td>\n",
              "      <td>High School</td>\n",
              "      <td>transport-moving</td>\n",
              "      <td>polo</td>\n",
              "      <td>51300</td>\n",
              "      <td>0</td>\n",
              "      <td>India</td>\n",
              "      <td>146710</td>\n",
              "      <td>128</td>\n",
              "      <td>2000-08-19</td>\n",
              "      <td>State2</td>\n",
              "      <td>100/300</td>\n",
              "      <td>1000</td>\n",
              "      <td>1274.38</td>\n",
              "      <td>2857344</td>\n",
              "      <td>own-child</td>\n",
              "      <td>Vehicle17183</td>\n",
              "      <td>Toyota</td>\n",
              "      <td>Highlander</td>\n",
              "      <td>2010</td>\n",
              "      <td>afternoon</td>\n",
              "      <td>51300</td>\n",
              "    </tr>\n",
              "    <tr>\n",
              "      <th>2</th>\n",
              "      <td>Cust24312</td>\n",
              "      <td>2015-01-14</td>\n",
              "      <td>Multi-vehicle Collision</td>\n",
              "      <td>Side Collision</td>\n",
              "      <td>Major Damage</td>\n",
              "      <td>Ambulance</td>\n",
              "      <td>State5</td>\n",
              "      <td>City2</td>\n",
              "      <td>Location 1546</td>\n",
              "      <td>21</td>\n",
              "      <td>3</td>\n",
              "      <td>?</td>\n",
              "      <td>0</td>\n",
              "      <td>0.0</td>\n",
              "      <td>?</td>\n",
              "      <td>42824.0</td>\n",
              "      <td>6069</td>\n",
              "      <td>6069</td>\n",
              "      <td>30686</td>\n",
              "      <td>52</td>\n",
              "      <td>479320</td>\n",
              "      <td>FEMALE</td>\n",
              "      <td>PhD</td>\n",
              "      <td>machine-op-inspct</td>\n",
              "      <td>exercise</td>\n",
              "      <td>0</td>\n",
              "      <td>0</td>\n",
              "      <td>India</td>\n",
              "      <td>133433</td>\n",
              "      <td>346</td>\n",
              "      <td>2000-06-23</td>\n",
              "      <td>State1</td>\n",
              "      <td>500/1000</td>\n",
              "      <td>745</td>\n",
              "      <td>1269.93</td>\n",
              "      <td>0</td>\n",
              "      <td>other-relative</td>\n",
              "      <td>Vehicle33982</td>\n",
              "      <td>Volkswagen</td>\n",
              "      <td>Passat</td>\n",
              "      <td>2002</td>\n",
              "      <td>night</td>\n",
              "      <td>0</td>\n",
              "    </tr>\n",
              "    <tr>\n",
              "      <th>3</th>\n",
              "      <td>Cust5493</td>\n",
              "      <td>2015-01-07</td>\n",
              "      <td>Multi-vehicle Collision</td>\n",
              "      <td>Side Collision</td>\n",
              "      <td>Major Damage</td>\n",
              "      <td>Ambulance</td>\n",
              "      <td>State7</td>\n",
              "      <td>City4</td>\n",
              "      <td>Location 1413</td>\n",
              "      <td>12</td>\n",
              "      <td>3</td>\n",
              "      <td>YES</td>\n",
              "      <td>2</td>\n",
              "      <td>0.0</td>\n",
              "      <td>?</td>\n",
              "      <td>45672.0</td>\n",
              "      <td>253</td>\n",
              "      <td>5741</td>\n",
              "      <td>39678</td>\n",
              "      <td>25</td>\n",
              "      <td>607763</td>\n",
              "      <td>FEMALE</td>\n",
              "      <td>College</td>\n",
              "      <td>exec-managerial</td>\n",
              "      <td>exercise</td>\n",
              "      <td>47400</td>\n",
              "      <td>-56100</td>\n",
              "      <td>India</td>\n",
              "      <td>114614</td>\n",
              "      <td>42</td>\n",
              "      <td>1992-01-15</td>\n",
              "      <td>State2</td>\n",
              "      <td>100/300</td>\n",
              "      <td>986</td>\n",
              "      <td>1218.60</td>\n",
              "      <td>0</td>\n",
              "      <td>other-relative</td>\n",
              "      <td>Vehicle12299</td>\n",
              "      <td>Toyota</td>\n",
              "      <td>Highlander</td>\n",
              "      <td>2011</td>\n",
              "      <td>fore-noon</td>\n",
              "      <td>-8700</td>\n",
              "    </tr>\n",
              "    <tr>\n",
              "      <th>4</th>\n",
              "      <td>Cust7704</td>\n",
              "      <td>2015-02-26</td>\n",
              "      <td>Multi-vehicle Collision</td>\n",
              "      <td>Side Collision</td>\n",
              "      <td>Major Damage</td>\n",
              "      <td>Other</td>\n",
              "      <td>State4</td>\n",
              "      <td>City6</td>\n",
              "      <td>Location 1367</td>\n",
              "      <td>3</td>\n",
              "      <td>3</td>\n",
              "      <td>NO</td>\n",
              "      <td>1</td>\n",
              "      <td>2.0</td>\n",
              "      <td>NO</td>\n",
              "      <td>81472.0</td>\n",
              "      <td>7407</td>\n",
              "      <td>14813</td>\n",
              "      <td>59252</td>\n",
              "      <td>27</td>\n",
              "      <td>441783</td>\n",
              "      <td>MALE</td>\n",
              "      <td>Masters</td>\n",
              "      <td>sales</td>\n",
              "      <td>chess</td>\n",
              "      <td>0</td>\n",
              "      <td>0</td>\n",
              "      <td>India</td>\n",
              "      <td>116825</td>\n",
              "      <td>109</td>\n",
              "      <td>2001-09-23</td>\n",
              "      <td>State3</td>\n",
              "      <td>250/500</td>\n",
              "      <td>576</td>\n",
              "      <td>1431.02</td>\n",
              "      <td>4235779</td>\n",
              "      <td>unmarried</td>\n",
              "      <td>Vehicle30447</td>\n",
              "      <td>Ford</td>\n",
              "      <td>Wrangler</td>\n",
              "      <td>2010</td>\n",
              "      <td>past_midnight</td>\n",
              "      <td>0</td>\n",
              "    </tr>\n",
              "  </tbody>\n",
              "</table>\n",
              "</div>"
            ],
            "text/plain": [
              "  CustomerID DateOfIncident  ... IncidentPeriod Status\n",
              "0  Cust20065     2015-01-09  ...        evening -42700\n",
              "1  Cust37589     2015-02-20  ...      afternoon  51300\n",
              "2  Cust24312     2015-01-14  ...          night      0\n",
              "3   Cust5493     2015-01-07  ...      fore-noon  -8700\n",
              "4   Cust7704     2015-02-26  ...  past_midnight      0\n",
              "\n",
              "[5 rows x 43 columns]"
            ]
          },
          "metadata": {
            "tags": []
          },
          "execution_count": 142
        }
      ]
    },
    {
      "cell_type": "code",
      "metadata": {
        "colab": {
          "base_uri": "https://localhost:8080/"
        },
        "id": "Vlk6mW4BlQXY",
        "outputId": "506b8029-5198-4a6d-964c-a1f96d6f72b8"
      },
      "source": [
        "merged_data.Status.describe()"
      ],
      "execution_count": null,
      "outputs": [
        {
          "output_type": "execute_result",
          "data": {
            "text/plain": [
              "count     28836.000000\n",
              "mean      -1874.042863\n",
              "std       38285.827348\n",
              "min     -111100.000000\n",
              "25%      -31600.000000\n",
              "50%           0.000000\n",
              "75%       21500.000000\n",
              "max      100500.000000\n",
              "Name: Status, dtype: float64"
            ]
          },
          "metadata": {
            "tags": []
          },
          "execution_count": 71
        }
      ]
    },
    {
      "cell_type": "code",
      "metadata": {
        "colab": {
          "base_uri": "https://localhost:8080/",
          "height": 470
        },
        "id": "sen7-pg20EVt",
        "outputId": "a5b841b0-4a19-40d0-d1b6-179516d185fa"
      },
      "source": [
        "# Type of Brands and count\n",
        "sns.countplot(y='VehicleMake', data=merged_data)"
      ],
      "execution_count": null,
      "outputs": [
        {
          "output_type": "execute_result",
          "data": {
            "text/plain": [
              "<matplotlib.axes._subplots.AxesSubplot at 0x7f6d176f2b10>"
            ]
          },
          "metadata": {
            "tags": []
          },
          "execution_count": 184
        },
        {
          "output_type": "display_data",
          "data": {
            "image/png": "[encoded data removed]",
            "text/plain": [
              "<Figure size 640x480 with 1 Axes>"
            ]
          },
          "metadata": {
            "tags": []
          }
        }
      ]
    },
    {
      "cell_type": "markdown",
      "metadata": {
        "id": "wSduYTdP0pNT"
      },
      "source": [
        "**Observation**:\n",
        "  There are more number of customers belonging to brand Saab and Suburu"
      ]
    }
  ]
}